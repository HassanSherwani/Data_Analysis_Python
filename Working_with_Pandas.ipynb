{
 "cells": [
  {
   "cell_type": "markdown",
   "metadata": {},
   "source": [
    "# An excercise based on Kevin Markham PyCon 2018 talk\n",
    "\n",
    "Aim of this excercise is to understand how to work with pandas libraries and make useful inferences out of it"
   ]
  },
  {
   "cell_type": "code",
   "execution_count": 1,
   "metadata": {},
   "outputs": [],
   "source": [
    "import pandas as pd\n",
    "import matplotlib.pyplot as plt\n",
    "%matplotlib inline"
   ]
  },
  {
   "cell_type": "code",
   "execution_count": 2,
   "metadata": {},
   "outputs": [],
   "source": [
    "# ri stands for Rhode Island\n",
    "ri = pd.read_csv('police.csv')"
   ]
  },
  {
   "cell_type": "code",
   "execution_count": 3,
   "metadata": {},
   "outputs": [
    {
     "data": {
      "text/html": [
       "<div>\n",
       "<style scoped>\n",
       "    .dataframe tbody tr th:only-of-type {\n",
       "        vertical-align: middle;\n",
       "    }\n",
       "\n",
       "    .dataframe tbody tr th {\n",
       "        vertical-align: top;\n",
       "    }\n",
       "\n",
       "    .dataframe thead th {\n",
       "        text-align: right;\n",
       "    }\n",
       "</style>\n",
       "<table border=\"1\" class=\"dataframe\">\n",
       "  <thead>\n",
       "    <tr style=\"text-align: right;\">\n",
       "      <th></th>\n",
       "      <th>stop_date</th>\n",
       "      <th>stop_time</th>\n",
       "      <th>county_name</th>\n",
       "      <th>driver_gender</th>\n",
       "      <th>driver_age_raw</th>\n",
       "      <th>driver_age</th>\n",
       "      <th>driver_race</th>\n",
       "      <th>violation_raw</th>\n",
       "      <th>violation</th>\n",
       "      <th>search_conducted</th>\n",
       "      <th>search_type</th>\n",
       "      <th>stop_outcome</th>\n",
       "      <th>is_arrested</th>\n",
       "      <th>stop_duration</th>\n",
       "      <th>drugs_related_stop</th>\n",
       "    </tr>\n",
       "  </thead>\n",
       "  <tbody>\n",
       "    <tr>\n",
       "      <th>0</th>\n",
       "      <td>2005-01-02</td>\n",
       "      <td>01:55</td>\n",
       "      <td>NaN</td>\n",
       "      <td>M</td>\n",
       "      <td>1985.0</td>\n",
       "      <td>20.0</td>\n",
       "      <td>White</td>\n",
       "      <td>Speeding</td>\n",
       "      <td>Speeding</td>\n",
       "      <td>False</td>\n",
       "      <td>NaN</td>\n",
       "      <td>Citation</td>\n",
       "      <td>False</td>\n",
       "      <td>0-15 Min</td>\n",
       "      <td>False</td>\n",
       "    </tr>\n",
       "    <tr>\n",
       "      <th>1</th>\n",
       "      <td>2005-01-18</td>\n",
       "      <td>08:15</td>\n",
       "      <td>NaN</td>\n",
       "      <td>M</td>\n",
       "      <td>1965.0</td>\n",
       "      <td>40.0</td>\n",
       "      <td>White</td>\n",
       "      <td>Speeding</td>\n",
       "      <td>Speeding</td>\n",
       "      <td>False</td>\n",
       "      <td>NaN</td>\n",
       "      <td>Citation</td>\n",
       "      <td>False</td>\n",
       "      <td>0-15 Min</td>\n",
       "      <td>False</td>\n",
       "    </tr>\n",
       "    <tr>\n",
       "      <th>2</th>\n",
       "      <td>2005-01-23</td>\n",
       "      <td>23:15</td>\n",
       "      <td>NaN</td>\n",
       "      <td>M</td>\n",
       "      <td>1972.0</td>\n",
       "      <td>33.0</td>\n",
       "      <td>White</td>\n",
       "      <td>Speeding</td>\n",
       "      <td>Speeding</td>\n",
       "      <td>False</td>\n",
       "      <td>NaN</td>\n",
       "      <td>Citation</td>\n",
       "      <td>False</td>\n",
       "      <td>0-15 Min</td>\n",
       "      <td>False</td>\n",
       "    </tr>\n",
       "    <tr>\n",
       "      <th>3</th>\n",
       "      <td>2005-02-20</td>\n",
       "      <td>17:15</td>\n",
       "      <td>NaN</td>\n",
       "      <td>M</td>\n",
       "      <td>1986.0</td>\n",
       "      <td>19.0</td>\n",
       "      <td>White</td>\n",
       "      <td>Call for Service</td>\n",
       "      <td>Other</td>\n",
       "      <td>False</td>\n",
       "      <td>NaN</td>\n",
       "      <td>Arrest Driver</td>\n",
       "      <td>True</td>\n",
       "      <td>16-30 Min</td>\n",
       "      <td>False</td>\n",
       "    </tr>\n",
       "    <tr>\n",
       "      <th>4</th>\n",
       "      <td>2005-03-14</td>\n",
       "      <td>10:00</td>\n",
       "      <td>NaN</td>\n",
       "      <td>F</td>\n",
       "      <td>1984.0</td>\n",
       "      <td>21.0</td>\n",
       "      <td>White</td>\n",
       "      <td>Speeding</td>\n",
       "      <td>Speeding</td>\n",
       "      <td>False</td>\n",
       "      <td>NaN</td>\n",
       "      <td>Citation</td>\n",
       "      <td>False</td>\n",
       "      <td>0-15 Min</td>\n",
       "      <td>False</td>\n",
       "    </tr>\n",
       "  </tbody>\n",
       "</table>\n",
       "</div>"
      ],
      "text/plain": [
       "    stop_date stop_time  county_name driver_gender  driver_age_raw  \\\n",
       "0  2005-01-02     01:55          NaN             M          1985.0   \n",
       "1  2005-01-18     08:15          NaN             M          1965.0   \n",
       "2  2005-01-23     23:15          NaN             M          1972.0   \n",
       "3  2005-02-20     17:15          NaN             M          1986.0   \n",
       "4  2005-03-14     10:00          NaN             F          1984.0   \n",
       "\n",
       "   driver_age driver_race     violation_raw violation  search_conducted  \\\n",
       "0        20.0       White          Speeding  Speeding             False   \n",
       "1        40.0       White          Speeding  Speeding             False   \n",
       "2        33.0       White          Speeding  Speeding             False   \n",
       "3        19.0       White  Call for Service     Other             False   \n",
       "4        21.0       White          Speeding  Speeding             False   \n",
       "\n",
       "  search_type   stop_outcome is_arrested stop_duration  drugs_related_stop  \n",
       "0         NaN       Citation       False      0-15 Min               False  \n",
       "1         NaN       Citation       False      0-15 Min               False  \n",
       "2         NaN       Citation       False      0-15 Min               False  \n",
       "3         NaN  Arrest Driver        True     16-30 Min               False  \n",
       "4         NaN       Citation       False      0-15 Min               False  "
      ]
     },
     "execution_count": 3,
     "metadata": {},
     "output_type": "execute_result"
    }
   ],
   "source": [
    "ri.head()"
   ]
  },
  {
   "cell_type": "code",
   "execution_count": 4,
   "metadata": {},
   "outputs": [
    {
     "data": {
      "text/plain": [
       "(91741, 15)"
      ]
     },
     "execution_count": 4,
     "metadata": {},
     "output_type": "execute_result"
    }
   ],
   "source": [
    "ri.shape"
   ]
  },
  {
   "cell_type": "code",
   "execution_count": 5,
   "metadata": {},
   "outputs": [
    {
     "data": {
      "text/plain": [
       "stop_date              object\n",
       "stop_time              object\n",
       "county_name           float64\n",
       "driver_gender          object\n",
       "driver_age_raw        float64\n",
       "driver_age            float64\n",
       "driver_race            object\n",
       "violation_raw          object\n",
       "violation              object\n",
       "search_conducted         bool\n",
       "search_type            object\n",
       "stop_outcome           object\n",
       "is_arrested            object\n",
       "stop_duration          object\n",
       "drugs_related_stop       bool\n",
       "dtype: object"
      ]
     },
     "execution_count": 5,
     "metadata": {},
     "output_type": "execute_result"
    }
   ],
   "source": [
    "ri.dtypes"
   ]
  },
  {
   "cell_type": "code",
   "execution_count": 6,
   "metadata": {},
   "outputs": [
    {
     "data": {
      "text/plain": [
       "stop_date                 0\n",
       "stop_time                 0\n",
       "county_name           91741\n",
       "driver_gender          5335\n",
       "driver_age_raw         5327\n",
       "driver_age             5621\n",
       "driver_race            5333\n",
       "violation_raw          5333\n",
       "violation              5333\n",
       "search_conducted          0\n",
       "search_type           88545\n",
       "stop_outcome           5333\n",
       "is_arrested            5333\n",
       "stop_duration          5333\n",
       "drugs_related_stop        0\n",
       "dtype: int64"
      ]
     },
     "execution_count": 6,
     "metadata": {},
     "output_type": "execute_result"
    }
   ],
   "source": [
    "#Missing data?\n",
    "ri.isnull().sum()"
   ]
  },
  {
   "cell_type": "code",
   "execution_count": 7,
   "metadata": {},
   "outputs": [
    {
     "data": {
      "text/plain": [
       "True"
      ]
     },
     "execution_count": 7,
     "metadata": {},
     "output_type": "execute_result"
    }
   ],
   "source": [
    "(True == 1) and (False == 0)"
   ]
  },
  {
   "cell_type": "markdown",
   "metadata": {},
   "source": [
    "# 1-Removing columns\n",
    "\n",
    "Remove the column that only contains missing values"
   ]
  },
  {
   "cell_type": "code",
   "execution_count": 8,
   "metadata": {},
   "outputs": [],
   "source": [
    "# axis=1 also works, inplace is False by default, inplace=True avoids assignment statement\n",
    "ri.drop('county_name', axis='columns', inplace=True)"
   ]
  },
  {
   "cell_type": "code",
   "execution_count": 9,
   "metadata": {},
   "outputs": [
    {
     "data": {
      "text/plain": [
       "(91741, 14)"
      ]
     },
     "execution_count": 9,
     "metadata": {},
     "output_type": "execute_result"
    }
   ],
   "source": [
    "ri.shape"
   ]
  },
  {
   "cell_type": "code",
   "execution_count": 10,
   "metadata": {},
   "outputs": [
    {
     "data": {
      "text/plain": [
       "Index(['stop_date', 'stop_time', 'driver_gender', 'driver_age_raw',\n",
       "       'driver_age', 'driver_race', 'violation_raw', 'violation',\n",
       "       'search_conducted', 'search_type', 'stop_outcome', 'is_arrested',\n",
       "       'stop_duration', 'drugs_related_stop'],\n",
       "      dtype='object')"
      ]
     },
     "execution_count": 10,
     "metadata": {},
     "output_type": "execute_result"
    }
   ],
   "source": [
    "ri.columns"
   ]
  },
  {
   "cell_type": "code",
   "execution_count": 11,
   "metadata": {},
   "outputs": [
    {
     "data": {
      "text/plain": [
       "(91741, 14)"
      ]
     },
     "execution_count": 11,
     "metadata": {},
     "output_type": "execute_result"
    }
   ],
   "source": [
    "# alternative method\n",
    "ri.dropna(axis='columns', how='all').shape"
   ]
  },
  {
   "cell_type": "code",
   "execution_count": 12,
   "metadata": {},
   "outputs": [],
   "source": [
    "# del.ri['county_name']"
   ]
  },
  {
   "cell_type": "markdown",
   "metadata": {},
   "source": [
    "# 2- Comparing groups\n",
    "\n",
    "Do men or women speed more often?"
   ]
  },
  {
   "cell_type": "code",
   "execution_count": 13,
   "metadata": {},
   "outputs": [
    {
     "data": {
      "text/plain": [
       "0    Speeding\n",
       "1    Speeding\n",
       "2    Speeding\n",
       "3       Other\n",
       "4    Speeding\n",
       "Name: violation, dtype: object"
      ]
     },
     "execution_count": 13,
     "metadata": {},
     "output_type": "execute_result"
    }
   ],
   "source": [
    "ri['violation'][:5]"
   ]
  },
  {
   "cell_type": "code",
   "execution_count": 14,
   "metadata": {},
   "outputs": [
    {
     "data": {
      "text/plain": [
       "Speeding               48463\n",
       "Moving violation       16224\n",
       "Equipment              11020\n",
       "Other                   4317\n",
       "Registration/plates     3432\n",
       "Seat belt               2952\n",
       "Name: violation, dtype: int64"
      ]
     },
     "execution_count": 14,
     "metadata": {},
     "output_type": "execute_result"
    }
   ],
   "source": [
    "ri['violation'].value_counts()"
   ]
  },
  {
   "cell_type": "code",
   "execution_count": 15,
   "metadata": {},
   "outputs": [
    {
     "data": {
      "text/plain": [
       "0    M\n",
       "1    M\n",
       "2    M\n",
       "3    M\n",
       "4    F\n",
       "Name: driver_gender, dtype: object"
      ]
     },
     "execution_count": 15,
     "metadata": {},
     "output_type": "execute_result"
    }
   ],
   "source": [
    "#Let's check gender\n",
    "ri['driver_gender'][:5]"
   ]
  },
  {
   "cell_type": "code",
   "execution_count": 16,
   "metadata": {},
   "outputs": [
    {
     "data": {
      "text/plain": [
       "M    62895\n",
       "F    23511\n",
       "Name: driver_gender, dtype: int64"
      ]
     },
     "execution_count": 16,
     "metadata": {},
     "output_type": "execute_result"
    }
   ],
   "source": [
    "ri['driver_gender'].value_counts()"
   ]
  },
  {
   "cell_type": "code",
   "execution_count": 17,
   "metadata": {},
   "outputs": [
    {
     "data": {
      "text/plain": [
       "M    32979\n",
       "F    15482\n",
       "Name: driver_gender, dtype: int64"
      ]
     },
     "execution_count": 17,
     "metadata": {},
     "output_type": "execute_result"
    }
   ],
   "source": [
    "# when someone is stopped for speeding, how often is it a man or woman?\n",
    "ri[ri.violation == 'Speeding'].driver_gender.value_counts()"
   ]
  },
  {
   "cell_type": "code",
   "execution_count": 18,
   "metadata": {},
   "outputs": [
    {
     "data": {
      "text/plain": [
       "M    0.680527\n",
       "F    0.319473\n",
       "Name: driver_gender, dtype: float64"
      ]
     },
     "execution_count": 18,
     "metadata": {},
     "output_type": "execute_result"
    }
   ],
   "source": [
    "ri[ri.violation == 'Speeding'].driver_gender.value_counts(normalize=True)"
   ]
  },
  {
   "cell_type": "code",
   "execution_count": 19,
   "metadata": {},
   "outputs": [
    {
     "data": {
      "text/plain": [
       "M    0.680527\n",
       "F    0.319473\n",
       "Name: driver_gender, dtype: float64"
      ]
     },
     "execution_count": 19,
     "metadata": {},
     "output_type": "execute_result"
    }
   ],
   "source": [
    "# alternative\n",
    "ri.loc[ri.violation == 'Speeding', 'driver_gender'].value_counts(normalize=True)"
   ]
  },
  {
   "cell_type": "code",
   "execution_count": 20,
   "metadata": {},
   "outputs": [
    {
     "data": {
      "text/plain": [
       "Speeding               32979\n",
       "Moving violation       13020\n",
       "Equipment               8533\n",
       "Other                   3627\n",
       "Registration/plates     2419\n",
       "Seat belt               2317\n",
       "Name: violation, dtype: int64"
      ]
     },
     "execution_count": 20,
     "metadata": {},
     "output_type": "execute_result"
    }
   ],
   "source": [
    "# when a man is pulled over, how often is it for speeding?\n",
    "ri[ri.driver_gender == 'M'].violation.value_counts()"
   ]
  },
  {
   "cell_type": "code",
   "execution_count": 21,
   "metadata": {},
   "outputs": [
    {
     "data": {
      "text/plain": [
       "Speeding               0.524350\n",
       "Moving violation       0.207012\n",
       "Equipment              0.135671\n",
       "Other                  0.057668\n",
       "Registration/plates    0.038461\n",
       "Seat belt              0.036839\n",
       "Name: violation, dtype: float64"
      ]
     },
     "execution_count": 21,
     "metadata": {},
     "output_type": "execute_result"
    }
   ],
   "source": [
    "#Let's normalize\n",
    "ri[ri.driver_gender == 'M'].violation.value_counts(normalize= True)"
   ]
  },
  {
   "cell_type": "code",
   "execution_count": 22,
   "metadata": {},
   "outputs": [
    {
     "data": {
      "text/plain": [
       "Speeding               0.658500\n",
       "Moving violation       0.136277\n",
       "Equipment              0.105780\n",
       "Registration/plates    0.043086\n",
       "Other                  0.029348\n",
       "Seat belt              0.027009\n",
       "Name: violation, dtype: float64"
      ]
     },
     "execution_count": 22,
     "metadata": {},
     "output_type": "execute_result"
    }
   ],
   "source": [
    "# What about women\n",
    "ri[ri.driver_gender == 'F'].violation.value_counts(normalize=True)"
   ]
  },
  {
   "cell_type": "markdown",
   "metadata": {},
   "source": [
    "### Use groupby"
   ]
  },
  {
   "cell_type": "code",
   "execution_count": 23,
   "metadata": {},
   "outputs": [
    {
     "data": {
      "text/plain": [
       "driver_gender  violation          \n",
       "F              Speeding               0.658500\n",
       "               Moving violation       0.136277\n",
       "               Equipment              0.105780\n",
       "               Registration/plates    0.043086\n",
       "               Other                  0.029348\n",
       "               Seat belt              0.027009\n",
       "M              Speeding               0.524350\n",
       "               Moving violation       0.207012\n",
       "               Equipment              0.135671\n",
       "               Other                  0.057668\n",
       "               Registration/plates    0.038461\n",
       "               Seat belt              0.036839\n",
       "Name: violation, dtype: float64"
      ]
     },
     "execution_count": 23,
     "metadata": {},
     "output_type": "execute_result"
    }
   ],
   "source": [
    "# combines the two lines above\n",
    "ri.groupby('driver_gender').violation.value_counts(normalize=True)"
   ]
  },
  {
   "cell_type": "code",
   "execution_count": 24,
   "metadata": {},
   "outputs": [
    {
     "data": {
      "text/plain": [
       "driver_gender\n",
       "F    0.65850\n",
       "M    0.52435\n",
       "Name: violation, dtype: float64"
      ]
     },
     "execution_count": 24,
     "metadata": {},
     "output_type": "execute_result"
    }
   ],
   "source": [
    "# Or we can add .loc \n",
    "ri.groupby('driver_gender').violation.value_counts(normalize=True).loc[:,'Speeding']"
   ]
  },
  {
   "cell_type": "markdown",
   "metadata": {},
   "source": [
    "Same result filtered with speeding "
   ]
  },
  {
   "cell_type": "code",
   "execution_count": 25,
   "metadata": {},
   "outputs": [
    {
     "data": {
      "text/plain": [
       "violation            driver_gender\n",
       "Equipment            M                0.774319\n",
       "                     F                0.225681\n",
       "Moving violation     M                0.802515\n",
       "                     F                0.197485\n",
       "Other                M                0.840167\n",
       "                     F                0.159833\n",
       "Registration/plates  M                0.704837\n",
       "                     F                0.295163\n",
       "Seat belt            M                0.784892\n",
       "                     F                0.215108\n",
       "Speeding             M                0.680527\n",
       "                     F                0.319473\n",
       "Name: driver_gender, dtype: float64"
      ]
     },
     "execution_count": 25,
     "metadata": {},
     "output_type": "execute_result"
    }
   ],
   "source": [
    "# Change it other way around \n",
    "ri.groupby('violation').driver_gender.value_counts(normalize=True)"
   ]
  },
  {
   "cell_type": "code",
   "execution_count": 26,
   "metadata": {},
   "outputs": [
    {
     "data": {
      "text/plain": [
       "violation\n",
       "Equipment              0.774319\n",
       "Moving violation       0.802515\n",
       "Other                  0.840167\n",
       "Registration/plates    0.704837\n",
       "Seat belt              0.784892\n",
       "Speeding               0.680527\n",
       "Name: driver_gender, dtype: float64"
      ]
     },
     "execution_count": 26,
     "metadata": {},
     "output_type": "execute_result"
    }
   ],
   "source": [
    "# adding .loc like earlier\n",
    "ri.groupby('violation').driver_gender.value_counts(normalize=True).loc[:,'M']"
   ]
  },
  {
   "cell_type": "markdown",
   "metadata": {},
   "source": [
    "**Interesting enough, if we look at voilation it gives more/higher %age of male. If we take value count with gender then it shows female have a higher %age.**"
   ]
  },
  {
   "cell_type": "markdown",
   "metadata": {},
   "source": [
    "# 3)- Examining Relationship\n",
    "\n",
    "Does gender affect who gets searched during a stop?"
   ]
  },
  {
   "cell_type": "code",
   "execution_count": 27,
   "metadata": {},
   "outputs": [
    {
     "data": {
      "text/plain": [
       "0    False\n",
       "1    False\n",
       "2    False\n",
       "3    False\n",
       "4    False\n",
       "Name: search_conducted, dtype: bool"
      ]
     },
     "execution_count": 27,
     "metadata": {},
     "output_type": "execute_result"
    }
   ],
   "source": [
    "ri.search_conducted[:5]"
   ]
  },
  {
   "cell_type": "code",
   "execution_count": 28,
   "metadata": {},
   "outputs": [
    {
     "data": {
      "text/plain": [
       "False    0.965163\n",
       "True     0.034837\n",
       "Name: search_conducted, dtype: float64"
      ]
     },
     "execution_count": 28,
     "metadata": {},
     "output_type": "execute_result"
    }
   ],
   "source": [
    "ri.search_conducted.value_counts(normalize=True)"
   ]
  },
  {
   "cell_type": "markdown",
   "metadata": {},
   "source": [
    "**This feature has unbalanced data which is more toward False i.e no search conducted**"
   ]
  },
  {
   "cell_type": "code",
   "execution_count": 29,
   "metadata": {},
   "outputs": [
    {
     "data": {
      "text/plain": [
       "0.03483720473942948"
      ]
     },
     "execution_count": 29,
     "metadata": {},
     "output_type": "execute_result"
    }
   ],
   "source": [
    "ri.search_conducted.mean()"
   ]
  },
  {
   "cell_type": "code",
   "execution_count": 30,
   "metadata": {},
   "outputs": [
    {
     "data": {
      "text/plain": [
       "driver_gender\n",
       "F    0.020033\n",
       "M    0.043326\n",
       "Name: search_conducted, dtype: float64"
      ]
     },
     "execution_count": 30,
     "metadata": {},
     "output_type": "execute_result"
    }
   ],
   "source": [
    "ri.groupby('driver_gender').search_conducted.mean()"
   ]
  },
  {
   "cell_type": "code",
   "execution_count": 31,
   "metadata": {},
   "outputs": [
    {
     "data": {
      "text/plain": [
       "violation            driver_gender\n",
       "Equipment            F                0.042622\n",
       "                     M                0.070081\n",
       "Moving violation     F                0.036205\n",
       "                     M                0.059831\n",
       "Other                F                0.056522\n",
       "                     M                0.047146\n",
       "Registration/plates  F                0.066140\n",
       "                     M                0.110376\n",
       "Seat belt            F                0.012598\n",
       "                     M                0.037980\n",
       "Speeding             F                0.008720\n",
       "                     M                0.024925\n",
       "Name: search_conducted, dtype: float64"
      ]
     },
     "execution_count": 31,
     "metadata": {},
     "output_type": "execute_result"
    }
   ],
   "source": [
    "# include a second factor\n",
    "ri.groupby(['violation', 'driver_gender']).search_conducted.mean()"
   ]
  },
  {
   "cell_type": "markdown",
   "metadata": {},
   "source": [
    "# 4)- Handling missing values\n",
    "Why is search_type missing so often?"
   ]
  },
  {
   "cell_type": "code",
   "execution_count": 32,
   "metadata": {},
   "outputs": [
    {
     "data": {
      "text/plain": [
       "stop_date                 0\n",
       "stop_time                 0\n",
       "driver_gender          5335\n",
       "driver_age_raw         5327\n",
       "driver_age             5621\n",
       "driver_race            5333\n",
       "violation_raw          5333\n",
       "violation              5333\n",
       "search_conducted          0\n",
       "search_type           88545\n",
       "stop_outcome           5333\n",
       "is_arrested            5333\n",
       "stop_duration          5333\n",
       "drugs_related_stop        0\n",
       "dtype: int64"
      ]
     },
     "execution_count": 32,
     "metadata": {},
     "output_type": "execute_result"
    }
   ],
   "source": [
    "ri.isnull().sum()"
   ]
  },
  {
   "cell_type": "markdown",
   "metadata": {},
   "source": [
    "search_type    ...................       88545"
   ]
  },
  {
   "cell_type": "code",
   "execution_count": 33,
   "metadata": {},
   "outputs": [
    {
     "data": {
      "text/html": [
       "<div>\n",
       "<style scoped>\n",
       "    .dataframe tbody tr th:only-of-type {\n",
       "        vertical-align: middle;\n",
       "    }\n",
       "\n",
       "    .dataframe tbody tr th {\n",
       "        vertical-align: top;\n",
       "    }\n",
       "\n",
       "    .dataframe thead th {\n",
       "        text-align: right;\n",
       "    }\n",
       "</style>\n",
       "<table border=\"1\" class=\"dataframe\">\n",
       "  <thead>\n",
       "    <tr style=\"text-align: right;\">\n",
       "      <th></th>\n",
       "      <th>stop_date</th>\n",
       "      <th>stop_time</th>\n",
       "      <th>driver_gender</th>\n",
       "      <th>driver_age_raw</th>\n",
       "      <th>driver_age</th>\n",
       "      <th>driver_race</th>\n",
       "      <th>violation_raw</th>\n",
       "      <th>violation</th>\n",
       "      <th>search_conducted</th>\n",
       "      <th>search_type</th>\n",
       "      <th>stop_outcome</th>\n",
       "      <th>is_arrested</th>\n",
       "      <th>stop_duration</th>\n",
       "      <th>drugs_related_stop</th>\n",
       "    </tr>\n",
       "  </thead>\n",
       "  <tbody>\n",
       "    <tr>\n",
       "      <th>0</th>\n",
       "      <td>2005-01-02</td>\n",
       "      <td>01:55</td>\n",
       "      <td>M</td>\n",
       "      <td>1985.0</td>\n",
       "      <td>20.0</td>\n",
       "      <td>White</td>\n",
       "      <td>Speeding</td>\n",
       "      <td>Speeding</td>\n",
       "      <td>False</td>\n",
       "      <td>NaN</td>\n",
       "      <td>Citation</td>\n",
       "      <td>False</td>\n",
       "      <td>0-15 Min</td>\n",
       "      <td>False</td>\n",
       "    </tr>\n",
       "    <tr>\n",
       "      <th>1</th>\n",
       "      <td>2005-01-18</td>\n",
       "      <td>08:15</td>\n",
       "      <td>M</td>\n",
       "      <td>1965.0</td>\n",
       "      <td>40.0</td>\n",
       "      <td>White</td>\n",
       "      <td>Speeding</td>\n",
       "      <td>Speeding</td>\n",
       "      <td>False</td>\n",
       "      <td>NaN</td>\n",
       "      <td>Citation</td>\n",
       "      <td>False</td>\n",
       "      <td>0-15 Min</td>\n",
       "      <td>False</td>\n",
       "    </tr>\n",
       "    <tr>\n",
       "      <th>2</th>\n",
       "      <td>2005-01-23</td>\n",
       "      <td>23:15</td>\n",
       "      <td>M</td>\n",
       "      <td>1972.0</td>\n",
       "      <td>33.0</td>\n",
       "      <td>White</td>\n",
       "      <td>Speeding</td>\n",
       "      <td>Speeding</td>\n",
       "      <td>False</td>\n",
       "      <td>NaN</td>\n",
       "      <td>Citation</td>\n",
       "      <td>False</td>\n",
       "      <td>0-15 Min</td>\n",
       "      <td>False</td>\n",
       "    </tr>\n",
       "    <tr>\n",
       "      <th>3</th>\n",
       "      <td>2005-02-20</td>\n",
       "      <td>17:15</td>\n",
       "      <td>M</td>\n",
       "      <td>1986.0</td>\n",
       "      <td>19.0</td>\n",
       "      <td>White</td>\n",
       "      <td>Call for Service</td>\n",
       "      <td>Other</td>\n",
       "      <td>False</td>\n",
       "      <td>NaN</td>\n",
       "      <td>Arrest Driver</td>\n",
       "      <td>True</td>\n",
       "      <td>16-30 Min</td>\n",
       "      <td>False</td>\n",
       "    </tr>\n",
       "    <tr>\n",
       "      <th>4</th>\n",
       "      <td>2005-03-14</td>\n",
       "      <td>10:00</td>\n",
       "      <td>F</td>\n",
       "      <td>1984.0</td>\n",
       "      <td>21.0</td>\n",
       "      <td>White</td>\n",
       "      <td>Speeding</td>\n",
       "      <td>Speeding</td>\n",
       "      <td>False</td>\n",
       "      <td>NaN</td>\n",
       "      <td>Citation</td>\n",
       "      <td>False</td>\n",
       "      <td>0-15 Min</td>\n",
       "      <td>False</td>\n",
       "    </tr>\n",
       "  </tbody>\n",
       "</table>\n",
       "</div>"
      ],
      "text/plain": [
       "    stop_date stop_time driver_gender  driver_age_raw  driver_age driver_race  \\\n",
       "0  2005-01-02     01:55             M          1985.0        20.0       White   \n",
       "1  2005-01-18     08:15             M          1965.0        40.0       White   \n",
       "2  2005-01-23     23:15             M          1972.0        33.0       White   \n",
       "3  2005-02-20     17:15             M          1986.0        19.0       White   \n",
       "4  2005-03-14     10:00             F          1984.0        21.0       White   \n",
       "\n",
       "      violation_raw violation  search_conducted search_type   stop_outcome  \\\n",
       "0          Speeding  Speeding             False         NaN       Citation   \n",
       "1          Speeding  Speeding             False         NaN       Citation   \n",
       "2          Speeding  Speeding             False         NaN       Citation   \n",
       "3  Call for Service     Other             False         NaN  Arrest Driver   \n",
       "4          Speeding  Speeding             False         NaN       Citation   \n",
       "\n",
       "  is_arrested stop_duration  drugs_related_stop  \n",
       "0       False      0-15 Min               False  \n",
       "1       False      0-15 Min               False  \n",
       "2       False      0-15 Min               False  \n",
       "3        True     16-30 Min               False  \n",
       "4       False      0-15 Min               False  "
      ]
     },
     "execution_count": 33,
     "metadata": {},
     "output_type": "execute_result"
    }
   ],
   "source": [
    "ri[ri.isnull().any(axis=1)].head()"
   ]
  },
  {
   "cell_type": "code",
   "execution_count": 34,
   "metadata": {},
   "outputs": [
    {
     "data": {
      "text/plain": [
       "False    88545\n",
       "True      3196\n",
       "Name: search_conducted, dtype: int64"
      ]
     },
     "execution_count": 34,
     "metadata": {},
     "output_type": "execute_result"
    }
   ],
   "source": [
    "# maybe search_type is missing any time search_conducted is False?\n",
    "ri.search_conducted.value_counts()"
   ]
  },
  {
   "cell_type": "code",
   "execution_count": 35,
   "metadata": {},
   "outputs": [
    {
     "data": {
      "text/plain": [
       "Incident to Arrest                                          1219\n",
       "Probable Cause                                               891\n",
       "Inventory                                                    220\n",
       "Reasonable Suspicion                                         197\n",
       "Protective Frisk                                             161\n",
       "Incident to Arrest,Inventory                                 129\n",
       "Incident to Arrest,Probable Cause                            106\n",
       "Probable Cause,Reasonable Suspicion                           75\n",
       "Incident to Arrest,Inventory,Probable Cause                   34\n",
       "Probable Cause,Protective Frisk                               33\n",
       "Incident to Arrest,Protective Frisk                           33\n",
       "Inventory,Probable Cause                                      22\n",
       "Incident to Arrest,Reasonable Suspicion                       13\n",
       "Protective Frisk,Reasonable Suspicion                         11\n",
       "Incident to Arrest,Inventory,Protective Frisk                 11\n",
       "Inventory,Protective Frisk                                    11\n",
       "Incident to Arrest,Probable Cause,Protective Frisk            10\n",
       "Incident to Arrest,Probable Cause,Reasonable Suspicion         6\n",
       "Incident to Arrest,Inventory,Reasonable Suspicion              4\n",
       "Inventory,Reasonable Suspicion                                 4\n",
       "Inventory,Probable Cause,Reasonable Suspicion                  2\n",
       "Inventory,Probable Cause,Protective Frisk                      2\n",
       "Incident to Arrest,Protective Frisk,Reasonable Suspicion       1\n",
       "Probable Cause,Protective Frisk,Reasonable Suspicion           1\n",
       "Name: search_type, dtype: int64"
      ]
     },
     "execution_count": 35,
     "metadata": {},
     "output_type": "execute_result"
    }
   ],
   "source": [
    "# Let's examine what data search type has\n",
    "ri.search_type.value_counts()"
   ]
  },
  {
   "cell_type": "markdown",
   "metadata": {},
   "source": [
    "These all values add up to 3196 i.e number of times search conducted."
   ]
  },
  {
   "cell_type": "code",
   "execution_count": 36,
   "metadata": {},
   "outputs": [
    {
     "data": {
      "text/plain": [
       "Series([], Name: search_type, dtype: int64)"
      ]
     },
     "execution_count": 36,
     "metadata": {},
     "output_type": "execute_result"
    }
   ],
   "source": [
    "ri[ri.search_conducted == False].search_type.value_counts()"
   ]
  },
  {
   "cell_type": "markdown",
   "metadata": {},
   "source": [
    "We are asking when search_conducted is not happening then how many search_type values exist. It is giving us empty value.Why? <br>\n",
    "\n",
    "The search_type value is in case of search_conducted = false is always null. So, Not a number and that is why we see no value."
   ]
  },
  {
   "cell_type": "code",
   "execution_count": 37,
   "metadata": {},
   "outputs": [
    {
     "data": {
      "text/plain": [
       "NaN    88545\n",
       "Name: search_type, dtype: int64"
      ]
     },
     "execution_count": 37,
     "metadata": {},
     "output_type": "execute_result"
    }
   ],
   "source": [
    "# value_counts ignores missing values by default\n",
    "ri[ri.search_conducted == False].search_type.value_counts(dropna=False)"
   ]
  },
  {
   "cell_type": "code",
   "execution_count": 38,
   "metadata": {},
   "outputs": [
    {
     "data": {
      "text/plain": [
       "Incident to Arrest                                          1219\n",
       "Probable Cause                                               891\n",
       "Inventory                                                    220\n",
       "Reasonable Suspicion                                         197\n",
       "Protective Frisk                                             161\n",
       "Incident to Arrest,Inventory                                 129\n",
       "Incident to Arrest,Probable Cause                            106\n",
       "Probable Cause,Reasonable Suspicion                           75\n",
       "Incident to Arrest,Inventory,Probable Cause                   34\n",
       "Probable Cause,Protective Frisk                               33\n",
       "Incident to Arrest,Protective Frisk                           33\n",
       "Inventory,Probable Cause                                      22\n",
       "Incident to Arrest,Reasonable Suspicion                       13\n",
       "Protective Frisk,Reasonable Suspicion                         11\n",
       "Inventory,Protective Frisk                                    11\n",
       "Incident to Arrest,Inventory,Protective Frisk                 11\n",
       "Incident to Arrest,Probable Cause,Protective Frisk            10\n",
       "Incident to Arrest,Probable Cause,Reasonable Suspicion         6\n",
       "Inventory,Reasonable Suspicion                                 4\n",
       "Incident to Arrest,Inventory,Reasonable Suspicion              4\n",
       "Inventory,Probable Cause,Reasonable Suspicion                  2\n",
       "Inventory,Probable Cause,Protective Frisk                      2\n",
       "Incident to Arrest,Protective Frisk,Reasonable Suspicion       1\n",
       "Probable Cause,Protective Frisk,Reasonable Suspicion           1\n",
       "Name: search_type, dtype: int64"
      ]
     },
     "execution_count": 38,
     "metadata": {},
     "output_type": "execute_result"
    }
   ],
   "source": [
    "# when search_conducted is True, search_type is never missing\n",
    "ri[ri.search_conducted == True].search_type.value_counts(dropna=False)"
   ]
  },
  {
   "cell_type": "code",
   "execution_count": 39,
   "metadata": {},
   "outputs": [
    {
     "data": {
      "text/plain": [
       "0"
      ]
     },
     "execution_count": 39,
     "metadata": {},
     "output_type": "execute_result"
    }
   ],
   "source": [
    "# alternative\n",
    "ri[ri.search_conducted == True].search_type.isnull().sum()"
   ]
  },
  {
   "cell_type": "markdown",
   "metadata": {},
   "source": [
    "# 5- Using String method\n",
    "\n",
    "During a search, how often is the driver frisked? <br>\n",
    "Use string methods to find partial matches"
   ]
  },
  {
   "cell_type": "code",
   "execution_count": 40,
   "metadata": {},
   "outputs": [
    {
     "data": {
      "text/plain": [
       "NaN                                                         88545\n",
       "Incident to Arrest                                           1219\n",
       "Probable Cause                                                891\n",
       "Inventory                                                     220\n",
       "Reasonable Suspicion                                          197\n",
       "Protective Frisk                                              161\n",
       "Incident to Arrest,Inventory                                  129\n",
       "Incident to Arrest,Probable Cause                             106\n",
       "Probable Cause,Reasonable Suspicion                            75\n",
       "Incident to Arrest,Inventory,Probable Cause                    34\n",
       "Probable Cause,Protective Frisk                                33\n",
       "Incident to Arrest,Protective Frisk                            33\n",
       "Inventory,Probable Cause                                       22\n",
       "Incident to Arrest,Reasonable Suspicion                        13\n",
       "Incident to Arrest,Inventory,Protective Frisk                  11\n",
       "Inventory,Protective Frisk                                     11\n",
       "Protective Frisk,Reasonable Suspicion                          11\n",
       "Incident to Arrest,Probable Cause,Protective Frisk             10\n",
       "Incident to Arrest,Probable Cause,Reasonable Suspicion          6\n",
       "Incident to Arrest,Inventory,Reasonable Suspicion               4\n",
       "Inventory,Reasonable Suspicion                                  4\n",
       "Inventory,Probable Cause,Protective Frisk                       2\n",
       "Inventory,Probable Cause,Reasonable Suspicion                   2\n",
       "Probable Cause,Protective Frisk,Reasonable Suspicion            1\n",
       "Incident to Arrest,Protective Frisk,Reasonable Suspicion        1\n",
       "Name: search_type, dtype: int64"
      ]
     },
     "execution_count": 40,
     "metadata": {},
     "output_type": "execute_result"
    }
   ],
   "source": [
    "# multiple types are separated by commas\n",
    "ri.search_type.value_counts(dropna=False)"
   ]
  },
  {
   "cell_type": "code",
   "execution_count": 41,
   "metadata": {},
   "outputs": [
    {
     "data": {
      "text/plain": [
       "0         NaN\n",
       "1         NaN\n",
       "2         NaN\n",
       "3         NaN\n",
       "4         NaN\n",
       "5         NaN\n",
       "6         NaN\n",
       "7         NaN\n",
       "8         NaN\n",
       "9         NaN\n",
       "10        NaN\n",
       "11        NaN\n",
       "12        NaN\n",
       "13        NaN\n",
       "14        NaN\n",
       "15        NaN\n",
       "16        NaN\n",
       "17        NaN\n",
       "18        NaN\n",
       "19        NaN\n",
       "20        NaN\n",
       "21        NaN\n",
       "22        NaN\n",
       "23        NaN\n",
       "24       True\n",
       "25        NaN\n",
       "26        NaN\n",
       "27        NaN\n",
       "28        NaN\n",
       "29        NaN\n",
       "         ... \n",
       "91711     NaN\n",
       "91712     NaN\n",
       "91713     NaN\n",
       "91714     NaN\n",
       "91715     NaN\n",
       "91716     NaN\n",
       "91717     NaN\n",
       "91718     NaN\n",
       "91719     NaN\n",
       "91720     NaN\n",
       "91721     NaN\n",
       "91722     NaN\n",
       "91723     NaN\n",
       "91724     NaN\n",
       "91725     NaN\n",
       "91726     NaN\n",
       "91727     NaN\n",
       "91728     NaN\n",
       "91729     NaN\n",
       "91730     NaN\n",
       "91731     NaN\n",
       "91732     NaN\n",
       "91733     NaN\n",
       "91734     NaN\n",
       "91735     NaN\n",
       "91736     NaN\n",
       "91737     NaN\n",
       "91738     NaN\n",
       "91739     NaN\n",
       "91740     NaN\n",
       "Name: search_type, Length: 91741, dtype: object"
      ]
     },
     "execution_count": 41,
     "metadata": {},
     "output_type": "execute_result"
    }
   ],
   "source": [
    "# To search a string(i.e Protective Frisk embedded with commas in search type ), we need contains function \n",
    "ri.search_type.str.contains('Protective Frisk')"
   ]
  },
  {
   "cell_type": "markdown",
   "metadata": {},
   "source": [
    "When we get a match, we get true else we get false"
   ]
  },
  {
   "cell_type": "code",
   "execution_count": 42,
   "metadata": {},
   "outputs": [],
   "source": [
    "# Add a new feature\n",
    "ri['frisk']=ri.search_type.str.contains('Protective Frisk')"
   ]
  },
  {
   "cell_type": "code",
   "execution_count": 43,
   "metadata": {},
   "outputs": [
    {
     "data": {
      "text/plain": [
       "False    2922\n",
       "True      274\n",
       "Name: frisk, dtype: int64"
      ]
     },
     "execution_count": 43,
     "metadata": {},
     "output_type": "execute_result"
    }
   ],
   "source": [
    "ri['frisk'].value_counts()"
   ]
  },
  {
   "cell_type": "code",
   "execution_count": 44,
   "metadata": {},
   "outputs": [
    {
     "data": {
      "text/plain": [
       "NaN      88545\n",
       "False     2922\n",
       "True       274\n",
       "Name: frisk, dtype: int64"
      ]
     },
     "execution_count": 44,
     "metadata": {},
     "output_type": "execute_result"
    }
   ],
   "source": [
    "# Checking if we have NaN values\n",
    "ri['frisk'].value_counts(dropna=False)"
   ]
  },
  {
   "cell_type": "code",
   "execution_count": 45,
   "metadata": {},
   "outputs": [
    {
     "data": {
      "text/plain": [
       "274"
      ]
     },
     "execution_count": 45,
     "metadata": {},
     "output_type": "execute_result"
    }
   ],
   "source": [
    "# to see our true values\n",
    "ri['frisk'].sum()"
   ]
  },
  {
   "cell_type": "code",
   "execution_count": 46,
   "metadata": {},
   "outputs": [
    {
     "data": {
      "text/plain": [
       "0.08573216520650813"
      ]
     },
     "execution_count": 46,
     "metadata": {},
     "output_type": "execute_result"
    }
   ],
   "source": [
    "#%age of true vales\n",
    "ri['frisk'].mean()"
   ]
  },
  {
   "cell_type": "markdown",
   "metadata": {},
   "source": [
    "So, 8.5% times when there is a search then there is a frisk"
   ]
  },
  {
   "cell_type": "code",
   "execution_count": 47,
   "metadata": {},
   "outputs": [
    {
     "data": {
      "text/plain": [
       "0.08573216520650813"
      ]
     },
     "execution_count": 47,
     "metadata": {},
     "output_type": "execute_result"
    }
   ],
   "source": [
    "# excludes stops that didn't involve a search\n",
    "274 / (2922 + 274)"
   ]
  },
  {
   "cell_type": "markdown",
   "metadata": {},
   "source": [
    "# 6)-Combining date and time\n",
    "\n",
    " Which year had the least number of stops?\n",
    " \n",
    " USe string method i.e split or slice"
   ]
  },
  {
   "cell_type": "code",
   "execution_count": 48,
   "metadata": {},
   "outputs": [
    {
     "data": {
      "text/plain": [
       "0        2005\n",
       "1        2005\n",
       "2        2005\n",
       "3        2005\n",
       "4        2005\n",
       "5        2005\n",
       "6        2005\n",
       "7        2005\n",
       "8        2005\n",
       "9        2005\n",
       "10       2005\n",
       "11       2005\n",
       "12       2005\n",
       "13       2005\n",
       "14       2005\n",
       "15       2005\n",
       "16       2005\n",
       "17       2005\n",
       "18       2005\n",
       "19       2005\n",
       "20       2005\n",
       "21       2005\n",
       "22       2005\n",
       "23       2005\n",
       "24       2005\n",
       "25       2005\n",
       "26       2005\n",
       "27       2005\n",
       "28       2005\n",
       "29       2005\n",
       "         ... \n",
       "91711    2015\n",
       "91712    2015\n",
       "91713    2015\n",
       "91714    2015\n",
       "91715    2015\n",
       "91716    2015\n",
       "91717    2015\n",
       "91718    2015\n",
       "91719    2015\n",
       "91720    2015\n",
       "91721    2015\n",
       "91722    2015\n",
       "91723    2015\n",
       "91724    2015\n",
       "91725    2015\n",
       "91726    2015\n",
       "91727    2015\n",
       "91728    2015\n",
       "91729    2015\n",
       "91730    2015\n",
       "91731    2015\n",
       "91732    2015\n",
       "91733    2015\n",
       "91734    2015\n",
       "91735    2015\n",
       "91736    2015\n",
       "91737    2015\n",
       "91738    2015\n",
       "91739    2015\n",
       "91740    2015\n",
       "Name: stop_date, Length: 91741, dtype: object"
      ]
     },
     "execution_count": 48,
     "metadata": {},
     "output_type": "execute_result"
    }
   ],
   "source": [
    "# stop_date is our feature to be considered\n",
    "ri.stop_date.str.slice(0, 4)"
   ]
  },
  {
   "cell_type": "code",
   "execution_count": 49,
   "metadata": {},
   "outputs": [
    {
     "data": {
      "text/plain": [
       "2012    10970\n",
       "2006    10639\n",
       "2007     9476\n",
       "2014     9228\n",
       "2008     8752\n",
       "2015     8599\n",
       "2011     8126\n",
       "2013     7924\n",
       "2009     7908\n",
       "2010     7561\n",
       "2005     2558\n",
       "Name: stop_date, dtype: int64"
      ]
     },
     "execution_count": 49,
     "metadata": {},
     "output_type": "execute_result"
    }
   ],
   "source": [
    "ri.stop_date.str.slice(0, 4).value_counts()"
   ]
  },
  {
   "cell_type": "code",
   "execution_count": 50,
   "metadata": {},
   "outputs": [
    {
     "data": {
      "text/plain": [
       "0    2005-01-02 01:55\n",
       "1    2005-01-18 08:15\n",
       "2    2005-01-23 23:15\n",
       "3    2005-02-20 17:15\n",
       "4    2005-03-14 10:00\n",
       "Name: stop_date, dtype: object"
      ]
     },
     "execution_count": 50,
     "metadata": {},
     "output_type": "execute_result"
    }
   ],
   "source": [
    "# ALternative way\n",
    "combined = ri.stop_date.str.cat(ri.stop_time, sep=' ')\n",
    "combined[:5]"
   ]
  },
  {
   "cell_type": "code",
   "execution_count": 51,
   "metadata": {},
   "outputs": [],
   "source": [
    "ri['stop_datetime'] = pd.to_datetime(combined) # note this function for datetime"
   ]
  },
  {
   "cell_type": "code",
   "execution_count": 52,
   "metadata": {},
   "outputs": [
    {
     "data": {
      "text/plain": [
       "stop_date                     object\n",
       "stop_time                     object\n",
       "driver_gender                 object\n",
       "driver_age_raw               float64\n",
       "driver_age                   float64\n",
       "driver_race                   object\n",
       "violation_raw                 object\n",
       "violation                     object\n",
       "search_conducted                bool\n",
       "search_type                   object\n",
       "stop_outcome                  object\n",
       "is_arrested                   object\n",
       "stop_duration                 object\n",
       "drugs_related_stop              bool\n",
       "frisk                         object\n",
       "stop_datetime         datetime64[ns]\n",
       "dtype: object"
      ]
     },
     "execution_count": 52,
     "metadata": {},
     "output_type": "execute_result"
    }
   ],
   "source": [
    "ri.dtypes"
   ]
  },
  {
   "cell_type": "markdown",
   "metadata": {},
   "source": [
    "stop_datetime  ..............       datetime64[ns]"
   ]
  },
  {
   "cell_type": "code",
   "execution_count": 53,
   "metadata": {},
   "outputs": [
    {
     "data": {
      "text/plain": [
       "0   2005-01-02 01:55:00\n",
       "1   2005-01-18 08:15:00\n",
       "2   2005-01-23 23:15:00\n",
       "3   2005-02-20 17:15:00\n",
       "4   2005-03-14 10:00:00\n",
       "Name: stop_datetime, dtype: datetime64[ns]"
      ]
     },
     "execution_count": 53,
     "metadata": {},
     "output_type": "execute_result"
    }
   ],
   "source": [
    "ri.stop_datetime[:5]"
   ]
  },
  {
   "cell_type": "code",
   "execution_count": 54,
   "metadata": {},
   "outputs": [
    {
     "data": {
      "text/plain": [
       "0        2005\n",
       "1        2005\n",
       "2        2005\n",
       "3        2005\n",
       "4        2005\n",
       "5        2005\n",
       "6        2005\n",
       "7        2005\n",
       "8        2005\n",
       "9        2005\n",
       "10       2005\n",
       "11       2005\n",
       "12       2005\n",
       "13       2005\n",
       "14       2005\n",
       "15       2005\n",
       "16       2005\n",
       "17       2005\n",
       "18       2005\n",
       "19       2005\n",
       "20       2005\n",
       "21       2005\n",
       "22       2005\n",
       "23       2005\n",
       "24       2005\n",
       "25       2005\n",
       "26       2005\n",
       "27       2005\n",
       "28       2005\n",
       "29       2005\n",
       "         ... \n",
       "91711    2015\n",
       "91712    2015\n",
       "91713    2015\n",
       "91714    2015\n",
       "91715    2015\n",
       "91716    2015\n",
       "91717    2015\n",
       "91718    2015\n",
       "91719    2015\n",
       "91720    2015\n",
       "91721    2015\n",
       "91722    2015\n",
       "91723    2015\n",
       "91724    2015\n",
       "91725    2015\n",
       "91726    2015\n",
       "91727    2015\n",
       "91728    2015\n",
       "91729    2015\n",
       "91730    2015\n",
       "91731    2015\n",
       "91732    2015\n",
       "91733    2015\n",
       "91734    2015\n",
       "91735    2015\n",
       "91736    2015\n",
       "91737    2015\n",
       "91738    2015\n",
       "91739    2015\n",
       "91740    2015\n",
       "Name: stop_datetime, Length: 91741, dtype: int64"
      ]
     },
     "execution_count": 54,
     "metadata": {},
     "output_type": "execute_result"
    }
   ],
   "source": [
    "# Format is same like string.1st dataetime then dt\n",
    "ri.stop_datetime.dt.year"
   ]
  },
  {
   "cell_type": "code",
   "execution_count": 55,
   "metadata": {},
   "outputs": [
    {
     "data": {
      "text/plain": [
       "0        53\n",
       "1         3\n",
       "2         3\n",
       "3         7\n",
       "4        11\n",
       "5        12\n",
       "6        13\n",
       "7        23\n",
       "8        28\n",
       "9        28\n",
       "10       28\n",
       "11       28\n",
       "12       28\n",
       "13       29\n",
       "14       29\n",
       "15       29\n",
       "16       29\n",
       "17       29\n",
       "18       29\n",
       "19       29\n",
       "20       30\n",
       "21       31\n",
       "22       32\n",
       "23       33\n",
       "24       34\n",
       "25       35\n",
       "26       37\n",
       "27       38\n",
       "28       38\n",
       "29       39\n",
       "         ..\n",
       "91711    53\n",
       "91712    53\n",
       "91713    53\n",
       "91714    53\n",
       "91715    53\n",
       "91716    53\n",
       "91717    53\n",
       "91718    53\n",
       "91719    53\n",
       "91720    53\n",
       "91721    53\n",
       "91722    53\n",
       "91723    53\n",
       "91724    53\n",
       "91725    53\n",
       "91726    53\n",
       "91727    53\n",
       "91728    53\n",
       "91729    53\n",
       "91730    53\n",
       "91731    53\n",
       "91732    53\n",
       "91733    53\n",
       "91734    53\n",
       "91735    53\n",
       "91736    53\n",
       "91737    53\n",
       "91738    53\n",
       "91739    53\n",
       "91740    53\n",
       "Name: stop_datetime, Length: 91741, dtype: int64"
      ]
     },
     "execution_count": 55,
     "metadata": {},
     "output_type": "execute_result"
    }
   ],
   "source": [
    "ri.stop_datetime.dt.week"
   ]
  },
  {
   "cell_type": "code",
   "execution_count": 56,
   "metadata": {},
   "outputs": [
    {
     "data": {
      "text/plain": [
       "2012    10970\n",
       "2006    10639\n",
       "2007     9476\n",
       "2014     9228\n",
       "2008     8752\n",
       "2015     8599\n",
       "2011     8126\n",
       "2013     7924\n",
       "2009     7908\n",
       "2010     7561\n",
       "2005     2558\n",
       "Name: stop_datetime, dtype: int64"
      ]
     },
     "execution_count": 56,
     "metadata": {},
     "output_type": "execute_result"
    }
   ],
   "source": [
    "# why is 2005 so much smaller?\n",
    "ri.stop_datetime.dt.year.value_counts()"
   ]
  },
  {
   "cell_type": "code",
   "execution_count": 57,
   "metadata": {},
   "outputs": [
    {
     "data": {
      "text/plain": [
       "2005     2558\n",
       "2010     7561\n",
       "2009     7908\n",
       "2013     7924\n",
       "2011     8126\n",
       "2015     8599\n",
       "2008     8752\n",
       "2014     9228\n",
       "2007     9476\n",
       "2006    10639\n",
       "2012    10970\n",
       "Name: stop_datetime, dtype: int64"
      ]
     },
     "execution_count": 57,
     "metadata": {},
     "output_type": "execute_result"
    }
   ],
   "source": [
    "ri.stop_datetime.dt.year.value_counts().sort_values()"
   ]
  },
  {
   "cell_type": "code",
   "execution_count": 58,
   "metadata": {},
   "outputs": [
    {
     "data": {
      "text/plain": [
       "2005     2558\n",
       "2010     7561\n",
       "2009     7908\n",
       "2013     7924\n",
       "2011     8126\n",
       "2015     8599\n",
       "2008     8752\n",
       "2014     9228\n",
       "2007     9476\n",
       "2006    10639\n",
       "2012    10970\n",
       "Name: stop_datetime, dtype: int64"
      ]
     },
     "execution_count": 58,
     "metadata": {},
     "output_type": "execute_result"
    }
   ],
   "source": [
    "# Same output could be done adding ascending parameter\n",
    "ri.stop_datetime.dt.year.value_counts(ascending=True)"
   ]
  },
  {
   "cell_type": "code",
   "execution_count": 59,
   "metadata": {},
   "outputs": [
    {
     "data": {
      "text/plain": [
       "2005"
      ]
     },
     "execution_count": 59,
     "metadata": {},
     "output_type": "execute_result"
    }
   ],
   "source": [
    "# We can pick a year value as well\n",
    "ri.stop_datetime.dt.year.value_counts().sort_values().index[0]"
   ]
  },
  {
   "cell_type": "markdown",
   "metadata": {},
   "source": [
    "# 8)-Plotting a time series\n",
    "How does drug activity change by time of day?"
   ]
  },
  {
   "cell_type": "code",
   "execution_count": 60,
   "metadata": {},
   "outputs": [
    {
     "data": {
      "text/plain": [
       "dtype('bool')"
      ]
     },
     "execution_count": 60,
     "metadata": {},
     "output_type": "execute_result"
    }
   ],
   "source": [
    "ri.drugs_related_stop.dtype"
   ]
  },
  {
   "cell_type": "code",
   "execution_count": 61,
   "metadata": {},
   "outputs": [
    {
     "data": {
      "text/plain": [
       "0    False\n",
       "1    False\n",
       "2    False\n",
       "3    False\n",
       "4    False\n",
       "Name: drugs_related_stop, dtype: bool"
      ]
     },
     "execution_count": 61,
     "metadata": {},
     "output_type": "execute_result"
    }
   ],
   "source": [
    "ri.drugs_related_stop[:5]"
   ]
  },
  {
   "cell_type": "code",
   "execution_count": 62,
   "metadata": {},
   "outputs": [
    {
     "data": {
      "text/plain": [
       "0.008883705213590434"
      ]
     },
     "execution_count": 62,
     "metadata": {},
     "output_type": "execute_result"
    }
   ],
   "source": [
    "# baseline rate\n",
    "ri.drugs_related_stop.mean()"
   ]
  },
  {
   "cell_type": "markdown",
   "metadata": {},
   "source": [
    "What %age of time during a traffic stop is considered drug related "
   ]
  },
  {
   "cell_type": "code",
   "execution_count": 63,
   "metadata": {},
   "outputs": [
    {
     "data": {
      "text/plain": [
       "stop_datetime\n",
       "0     0.019728\n",
       "1     0.013507\n",
       "2     0.015462\n",
       "3     0.017065\n",
       "4     0.011811\n",
       "5     0.004762\n",
       "6     0.003040\n",
       "7     0.003281\n",
       "8     0.002687\n",
       "9     0.006288\n",
       "10    0.005714\n",
       "11    0.006976\n",
       "12    0.004467\n",
       "13    0.010326\n",
       "14    0.007810\n",
       "15    0.006416\n",
       "16    0.005723\n",
       "17    0.005517\n",
       "18    0.010148\n",
       "19    0.011596\n",
       "20    0.008084\n",
       "21    0.013342\n",
       "22    0.013533\n",
       "23    0.016344\n",
       "Name: drugs_related_stop, dtype: float64"
      ]
     },
     "execution_count": 63,
     "metadata": {},
     "output_type": "execute_result"
    }
   ],
   "source": [
    "# can't groupby 'hour' unless you create it as a column\n",
    "ri.groupby(ri.stop_datetime.dt.hour).drugs_related_stop.mean()"
   ]
  },
  {
   "cell_type": "markdown",
   "metadata": {},
   "source": [
    "showing %age of time when a traffic stop occured due to drug relating stopping"
   ]
  },
  {
   "cell_type": "code",
   "execution_count": 64,
   "metadata": {},
   "outputs": [
    {
     "data": {
      "text/plain": [
       "<matplotlib.axes._subplots.AxesSubplot at 0x2828ccd0240>"
      ]
     },
     "execution_count": 64,
     "metadata": {},
     "output_type": "execute_result"
    },
    {
     "data": {
      "image/png": "[encoded data removed]",
      "text/plain": [
       "<Figure size 432x288 with 1 Axes>"
      ]
     },
     "metadata": {},
     "output_type": "display_data"
    }
   ],
   "source": [
    " #line plot by default (for a Series)\n",
    "ri.groupby(ri.stop_datetime.dt.hour).drugs_related_stop.mean().plot()"
   ]
  },
  {
   "cell_type": "code",
   "execution_count": 65,
   "metadata": {},
   "outputs": [
    {
     "data": {
      "text/plain": [
       "<matplotlib.axes._subplots.AxesSubplot at 0x2828d00b748>"
      ]
     },
     "execution_count": 65,
     "metadata": {},
     "output_type": "execute_result"
    },
    {
     "data": {
      "image/png": "[encoded data removed]",
      "text/plain": [
       "<Figure size 432x288 with 1 Axes>"
      ]
     },
     "metadata": {},
     "output_type": "display_data"
    }
   ],
   "source": [
    "# Or by using .time instead of hour\n",
    "ri.groupby(ri.stop_datetime.dt.time).drugs_related_stop.mean().plot()"
   ]
  },
  {
   "cell_type": "markdown",
   "metadata": {},
   "source": [
    "Though it is hard to interpret"
   ]
  },
  {
   "cell_type": "markdown",
   "metadata": {},
   "source": [
    "### use count as instead for mean"
   ]
  },
  {
   "cell_type": "code",
   "execution_count": 66,
   "metadata": {},
   "outputs": [
    {
     "data": {
      "text/plain": [
       "<matplotlib.axes._subplots.AxesSubplot at 0x2828d120320>"
      ]
     },
     "execution_count": 66,
     "metadata": {},
     "output_type": "execute_result"
    },
    {
     "data": {
      "image/png": "[encoded data removed]",
      "text/plain": [
       "<Figure size 432x288 with 1 Axes>"
      ]
     },
     "metadata": {},
     "output_type": "display_data"
    }
   ],
   "source": [
    "ri.groupby(ri.stop_datetime.dt.hour).drugs_related_stop.count().plot()"
   ]
  },
  {
   "cell_type": "markdown",
   "metadata": {},
   "source": [
    "We can see how overall count is different per hour than mean stop_time"
   ]
  },
  {
   "cell_type": "code",
   "execution_count": 67,
   "metadata": {},
   "outputs": [
    {
     "data": {
      "text/plain": [
       "stop_datetime\n",
       "0     103.0\n",
       "1      60.0\n",
       "2      46.0\n",
       "3      20.0\n",
       "4       3.0\n",
       "5       1.0\n",
       "6      10.0\n",
       "7      15.0\n",
       "8      14.0\n",
       "9      43.0\n",
       "10     42.0\n",
       "11     41.0\n",
       "12     16.0\n",
       "13     50.0\n",
       "14     44.0\n",
       "15     31.0\n",
       "16     22.0\n",
       "17     16.0\n",
       "18     22.0\n",
       "19     30.0\n",
       "20     27.0\n",
       "21     20.0\n",
       "22     47.0\n",
       "23     92.0\n",
       "Name: drugs_related_stop, dtype: float64"
      ]
     },
     "execution_count": 67,
     "metadata": {},
     "output_type": "execute_result"
    }
   ],
   "source": [
    "# alternative: count drug-related stops by hour\n",
    "ri.groupby(ri.stop_datetime.dt.hour).drugs_related_stop.sum()"
   ]
  },
  {
   "cell_type": "code",
   "execution_count": 68,
   "metadata": {},
   "outputs": [
    {
     "data": {
      "text/plain": [
       "<matplotlib.axes._subplots.AxesSubplot at 0x2828d1da828>"
      ]
     },
     "execution_count": 68,
     "metadata": {},
     "output_type": "execute_result"
    },
    {
     "data": {
      "image/png": "[encoded data removed]",
      "text/plain": [
       "<Figure size 432x288 with 1 Axes>"
      ]
     },
     "metadata": {},
     "output_type": "display_data"
    }
   ],
   "source": [
    "ri.groupby(ri.stop_datetime.dt.hour).drugs_related_stop.sum().plot()"
   ]
  },
  {
   "cell_type": "markdown",
   "metadata": {},
   "source": [
    "# 9)-Creating useful plots\n",
    "Do most stops occur at night?\n",
    "Nothing to do with drugs"
   ]
  },
  {
   "cell_type": "code",
   "execution_count": 69,
   "metadata": {},
   "outputs": [
    {
     "data": {
      "text/plain": [
       "0         1\n",
       "1         8\n",
       "2        23\n",
       "3        17\n",
       "4        10\n",
       "5         9\n",
       "6        17\n",
       "7        13\n",
       "8        10\n",
       "9        15\n",
       "10       16\n",
       "11       19\n",
       "12       19\n",
       "13       19\n",
       "14       19\n",
       "15        0\n",
       "16        0\n",
       "17       23\n",
       "18        0\n",
       "19       20\n",
       "20       12\n",
       "21       16\n",
       "22        2\n",
       "23       10\n",
       "24        1\n",
       "25       16\n",
       "26       10\n",
       "27       13\n",
       "28       22\n",
       "29        1\n",
       "         ..\n",
       "91711    15\n",
       "91712    16\n",
       "91713    17\n",
       "91714    17\n",
       "91715    23\n",
       "91716    23\n",
       "91717     0\n",
       "91718     0\n",
       "91719     6\n",
       "91720     6\n",
       "91721     6\n",
       "91722     7\n",
       "91723     7\n",
       "91724     7\n",
       "91725     8\n",
       "91726     8\n",
       "91727     9\n",
       "91728    13\n",
       "91729    14\n",
       "91730    15\n",
       "91731    16\n",
       "91732    19\n",
       "91733    19\n",
       "91734    20\n",
       "91735    20\n",
       "91736    20\n",
       "91737    20\n",
       "91738    20\n",
       "91739    21\n",
       "91740    22\n",
       "Name: stop_datetime, Length: 91741, dtype: int64"
      ]
     },
     "execution_count": 69,
     "metadata": {},
     "output_type": "execute_result"
    }
   ],
   "source": [
    "ri.stop_datetime.dt.hour"
   ]
  },
  {
   "cell_type": "code",
   "execution_count": 70,
   "metadata": {},
   "outputs": [
    {
     "data": {
      "text/plain": [
       "10    7350\n",
       "9     6838\n",
       "11    5877\n",
       "14    5634\n",
       "23    5629\n",
       "0     5221\n",
       "8     5210\n",
       "13    4842\n",
       "15    4832\n",
       "7     4572\n",
       "1     4442\n",
       "16    3844\n",
       "12    3582\n",
       "22    3473\n",
       "20    3340\n",
       "6     3290\n",
       "2     2975\n",
       "17    2900\n",
       "19    2587\n",
       "18    2168\n",
       "21    1499\n",
       "3     1172\n",
       "4      254\n",
       "5      210\n",
       "Name: stop_datetime, dtype: int64"
      ]
     },
     "execution_count": 70,
     "metadata": {},
     "output_type": "execute_result"
    }
   ],
   "source": [
    "ri.stop_datetime.dt.hour.value_counts()"
   ]
  },
  {
   "cell_type": "code",
   "execution_count": 71,
   "metadata": {},
   "outputs": [
    {
     "data": {
      "text/plain": [
       "<matplotlib.axes._subplots.AxesSubplot at 0x2828d1efc18>"
      ]
     },
     "execution_count": 71,
     "metadata": {},
     "output_type": "execute_result"
    },
    {
     "data": {
      "image/png": "[encoded data removed]",
      "text/plain": [
       "<Figure size 432x288 with 1 Axes>"
      ]
     },
     "metadata": {},
     "output_type": "display_data"
    }
   ],
   "source": [
    "ri.stop_datetime.dt.hour.value_counts().plot()"
   ]
  },
  {
   "cell_type": "markdown",
   "metadata": {},
   "source": [
    "It does not look right. We have two options. Either sort values or sort index."
   ]
  },
  {
   "cell_type": "code",
   "execution_count": 72,
   "metadata": {},
   "outputs": [
    {
     "data": {
      "text/plain": [
       "5      210\n",
       "4      254\n",
       "3     1172\n",
       "21    1499\n",
       "18    2168\n",
       "19    2587\n",
       "17    2900\n",
       "2     2975\n",
       "6     3290\n",
       "20    3340\n",
       "22    3473\n",
       "12    3582\n",
       "16    3844\n",
       "1     4442\n",
       "7     4572\n",
       "15    4832\n",
       "13    4842\n",
       "8     5210\n",
       "0     5221\n",
       "23    5629\n",
       "14    5634\n",
       "11    5877\n",
       "9     6838\n",
       "10    7350\n",
       "Name: stop_datetime, dtype: int64"
      ]
     },
     "execution_count": 72,
     "metadata": {},
     "output_type": "execute_result"
    }
   ],
   "source": [
    "ri.stop_datetime.dt.hour.value_counts().sort_values()"
   ]
  },
  {
   "cell_type": "markdown",
   "metadata": {},
   "source": [
    "Values are in lower to higher order. i.e lower number at start and higher at end"
   ]
  },
  {
   "cell_type": "code",
   "execution_count": 73,
   "metadata": {},
   "outputs": [
    {
     "data": {
      "text/plain": [
       "0     5221\n",
       "1     4442\n",
       "2     2975\n",
       "3     1172\n",
       "4      254\n",
       "5      210\n",
       "6     3290\n",
       "7     4572\n",
       "8     5210\n",
       "9     6838\n",
       "10    7350\n",
       "11    5877\n",
       "12    3582\n",
       "13    4842\n",
       "14    5634\n",
       "15    4832\n",
       "16    3844\n",
       "17    2900\n",
       "18    2168\n",
       "19    2587\n",
       "20    3340\n",
       "21    1499\n",
       "22    3473\n",
       "23    5629\n",
       "Name: stop_datetime, dtype: int64"
      ]
     },
     "execution_count": 73,
     "metadata": {},
     "output_type": "execute_result"
    }
   ],
   "source": [
    "ri.stop_datetime.dt.hour.value_counts().sort_index()"
   ]
  },
  {
   "cell_type": "markdown",
   "metadata": {},
   "source": [
    "Now, we have a sorted index. This seems to be better solution to plot"
   ]
  },
  {
   "cell_type": "code",
   "execution_count": 74,
   "metadata": {},
   "outputs": [
    {
     "data": {
      "text/plain": [
       "<matplotlib.axes._subplots.AxesSubplot at 0x2828d2c0f60>"
      ]
     },
     "execution_count": 74,
     "metadata": {},
     "output_type": "execute_result"
    },
    {
     "data": {
      "image/png": "[encoded data removed]",
      "text/plain": [
       "<Figure size 432x288 with 1 Axes>"
      ]
     },
     "metadata": {},
     "output_type": "display_data"
    }
   ],
   "source": [
    "#Solution is sort_index\n",
    "ri.stop_datetime.dt.hour.value_counts().sort_index().plot()"
   ]
  },
  {
   "cell_type": "markdown",
   "metadata": {},
   "source": [
    "notice how this plot is same as above count function plot"
   ]
  },
  {
   "cell_type": "code",
   "execution_count": 75,
   "metadata": {},
   "outputs": [
    {
     "data": {
      "text/plain": [
       "<matplotlib.axes._subplots.AxesSubplot at 0x2828d222438>"
      ]
     },
     "execution_count": 75,
     "metadata": {},
     "output_type": "execute_result"
    },
    {
     "data": {
      "image/png": "[encoded data removed]",
      "text/plain": [
       "<Figure size 432x288 with 1 Axes>"
      ]
     },
     "metadata": {},
     "output_type": "display_data"
    }
   ],
   "source": [
    "# alternative method- groupby with stop_datetime and stop_date\n",
    "ri.groupby(ri.stop_datetime.dt.hour).stop_date.count().plot()"
   ]
  },
  {
   "cell_type": "code",
   "execution_count": 76,
   "metadata": {},
   "outputs": [
    {
     "data": {
      "text/plain": [
       "<matplotlib.axes._subplots.AxesSubplot at 0x2828d336390>"
      ]
     },
     "execution_count": 76,
     "metadata": {},
     "output_type": "execute_result"
    },
    {
     "data": {
      "image/png": "[encoded data removed]",
      "text/plain": [
       "<Figure size 432x288 with 1 Axes>"
      ]
     },
     "metadata": {},
     "output_type": "display_data"
    }
   ],
   "source": [
    "# to check on all features\n",
    "ri.groupby(ri.stop_datetime.dt.hour).count().plot()"
   ]
  },
  {
   "cell_type": "code",
   "execution_count": 77,
   "metadata": {},
   "outputs": [
    {
     "data": {
      "text/plain": [
       "(68575, 16)"
      ]
     },
     "execution_count": 77,
     "metadata": {},
     "output_type": "execute_result"
    }
   ],
   "source": [
    "# One way is to see by night time. Let's say we decide that night time is between 22:00 to 4:00\n",
    "\n",
    "ri[(ri.stop_datetime.dt.hour > 4) & (ri.stop_datetime.dt.hour < 22)].shape"
   ]
  },
  {
   "cell_type": "code",
   "execution_count": 78,
   "metadata": {},
   "outputs": [
    {
     "data": {
      "text/plain": [
       "(91741, 16)"
      ]
     },
     "execution_count": 78,
     "metadata": {},
     "output_type": "execute_result"
    }
   ],
   "source": [
    "ri.shape"
   ]
  },
  {
   "cell_type": "code",
   "execution_count": 79,
   "metadata": {},
   "outputs": [
    {
     "data": {
      "text/plain": [
       "23166"
      ]
     },
     "execution_count": 79,
     "metadata": {},
     "output_type": "execute_result"
    }
   ],
   "source": [
    "91741-68575"
   ]
  },
  {
   "cell_type": "markdown",
   "metadata": {},
   "source": [
    "We can check and get idea without any plot how many stops we have at night or our given time "
   ]
  },
  {
   "cell_type": "markdown",
   "metadata": {},
   "source": [
    "# 10-Fixing bad data\n",
    "Find the bad data in the stop_duration column and fix it"
   ]
  },
  {
   "cell_type": "code",
   "execution_count": 80,
   "metadata": {},
   "outputs": [
    {
     "data": {
      "text/plain": [
       "0-15 Min     69543\n",
       "16-30 Min    13635\n",
       "30+ Min       3228\n",
       "2                1\n",
       "1                1\n",
       "Name: stop_duration, dtype: int64"
      ]
     },
     "execution_count": 80,
     "metadata": {},
     "output_type": "execute_result"
    }
   ],
   "source": [
    "ri.stop_duration.value_counts()"
   ]
  },
  {
   "cell_type": "markdown",
   "metadata": {},
   "source": [
    "This 1 and 2 are erroneous data points. We do not know what they mean . So, they can be considered as bad data"
   ]
  },
  {
   "cell_type": "code",
   "execution_count": 81,
   "metadata": {},
   "outputs": [
    {
     "data": {
      "text/plain": [
       "0-15 Min     69543\n",
       "16-30 Min    13635\n",
       "NaN           5333\n",
       "30+ Min       3228\n",
       "2                1\n",
       "1                1\n",
       "Name: stop_duration, dtype: int64"
      ]
     },
     "execution_count": 81,
     "metadata": {},
     "output_type": "execute_result"
    }
   ],
   "source": [
    "ri.stop_duration.value_counts(dropna=False)"
   ]
  },
  {
   "cell_type": "markdown",
   "metadata": {},
   "source": [
    "NaN values are always problemtic. We need to see more of domain and see if these are bad data or not. They are missing values for sure"
   ]
  },
  {
   "cell_type": "markdown",
   "metadata": {},
   "source": [
    "### how to fix\n",
    "- We can change 1 considering it an hour\n",
    "- We can remove values that are misisng ot erroneous\n",
    "- We can use replace function to do this"
   ]
  },
  {
   "cell_type": "code",
   "execution_count": 82,
   "metadata": {},
   "outputs": [
    {
     "ename": "TypeError",
     "evalue": "cannot compare a dtyped [object] array with a scalar of type [bool]",
     "output_type": "error",
     "traceback": [
      "\u001b[1;31m---------------------------------------------------------------------------\u001b[0m",
      "\u001b[1;31mTypeError\u001b[0m                                 Traceback (most recent call last)",
      "\u001b[1;32m~\\AppData\\Roaming\\Python\\Python36\\site-packages\\pandas\\core\\ops.py\u001b[0m in \u001b[0;36mna_op\u001b[1;34m(x, y)\u001b[0m\n\u001b[0;32m   1303\u001b[0m         \u001b[1;32mtry\u001b[0m\u001b[1;33m:\u001b[0m\u001b[1;33m\u001b[0m\u001b[0m\n\u001b[1;32m-> 1304\u001b[1;33m             \u001b[0mresult\u001b[0m \u001b[1;33m=\u001b[0m \u001b[0mop\u001b[0m\u001b[1;33m(\u001b[0m\u001b[0mx\u001b[0m\u001b[1;33m,\u001b[0m \u001b[0my\u001b[0m\u001b[1;33m)\u001b[0m\u001b[1;33m\u001b[0m\u001b[0m\n\u001b[0m\u001b[0;32m   1305\u001b[0m         \u001b[1;32mexcept\u001b[0m \u001b[0mTypeError\u001b[0m\u001b[1;33m:\u001b[0m\u001b[1;33m\u001b[0m\u001b[0m\n",
      "\u001b[1;32m~\\AppData\\Roaming\\Python\\Python36\\site-packages\\pandas\\core\\ops.py\u001b[0m in \u001b[0;36mror_\u001b[1;34m(left, right)\u001b[0m\n\u001b[0;32m    152\u001b[0m \u001b[1;32mdef\u001b[0m \u001b[0mror_\u001b[0m\u001b[1;33m(\u001b[0m\u001b[0mleft\u001b[0m\u001b[1;33m,\u001b[0m \u001b[0mright\u001b[0m\u001b[1;33m)\u001b[0m\u001b[1;33m:\u001b[0m\u001b[1;33m\u001b[0m\u001b[0m\n\u001b[1;32m--> 153\u001b[1;33m     \u001b[1;32mreturn\u001b[0m \u001b[0moperator\u001b[0m\u001b[1;33m.\u001b[0m\u001b[0mor_\u001b[0m\u001b[1;33m(\u001b[0m\u001b[0mright\u001b[0m\u001b[1;33m,\u001b[0m \u001b[0mleft\u001b[0m\u001b[1;33m)\u001b[0m\u001b[1;33m\u001b[0m\u001b[0m\n\u001b[0m\u001b[0;32m    154\u001b[0m \u001b[1;33m\u001b[0m\u001b[0m\n",
      "\u001b[1;31mTypeError\u001b[0m: unsupported operand type(s) for |: 'int' and 'str'",
      "\nDuring handling of the above exception, another exception occurred:\n",
      "\u001b[1;31mTypeError\u001b[0m                                 Traceback (most recent call last)",
      "\u001b[1;32m~\\AppData\\Roaming\\Python\\Python36\\site-packages\\pandas\\core\\ops.py\u001b[0m in \u001b[0;36mna_op\u001b[1;34m(x, y)\u001b[0m\n\u001b[0;32m   1320\u001b[0m                 \u001b[1;32mtry\u001b[0m\u001b[1;33m:\u001b[0m\u001b[1;33m\u001b[0m\u001b[0m\n\u001b[1;32m-> 1321\u001b[1;33m                     \u001b[0mresult\u001b[0m \u001b[1;33m=\u001b[0m \u001b[0mlibops\u001b[0m\u001b[1;33m.\u001b[0m\u001b[0mscalar_binop\u001b[0m\u001b[1;33m(\u001b[0m\u001b[0mx\u001b[0m\u001b[1;33m,\u001b[0m \u001b[0my\u001b[0m\u001b[1;33m,\u001b[0m \u001b[0mop\u001b[0m\u001b[1;33m)\u001b[0m\u001b[1;33m\u001b[0m\u001b[0m\n\u001b[0m\u001b[0;32m   1322\u001b[0m                 \u001b[1;32mexcept\u001b[0m\u001b[1;33m:\u001b[0m\u001b[1;33m\u001b[0m\u001b[0m\n",
      "\u001b[1;32mpandas\\_libs\\ops.pyx\u001b[0m in \u001b[0;36mpandas._libs.ops.scalar_binop\u001b[1;34m()\u001b[0m\n",
      "\u001b[1;32m~\\AppData\\Roaming\\Python\\Python36\\site-packages\\pandas\\core\\ops.py\u001b[0m in \u001b[0;36mror_\u001b[1;34m(left, right)\u001b[0m\n\u001b[0;32m    152\u001b[0m \u001b[1;32mdef\u001b[0m \u001b[0mror_\u001b[0m\u001b[1;33m(\u001b[0m\u001b[0mleft\u001b[0m\u001b[1;33m,\u001b[0m \u001b[0mright\u001b[0m\u001b[1;33m)\u001b[0m\u001b[1;33m:\u001b[0m\u001b[1;33m\u001b[0m\u001b[0m\n\u001b[1;32m--> 153\u001b[1;33m     \u001b[1;32mreturn\u001b[0m \u001b[0moperator\u001b[0m\u001b[1;33m.\u001b[0m\u001b[0mor_\u001b[0m\u001b[1;33m(\u001b[0m\u001b[0mright\u001b[0m\u001b[1;33m,\u001b[0m \u001b[0mleft\u001b[0m\u001b[1;33m)\u001b[0m\u001b[1;33m\u001b[0m\u001b[0m\n\u001b[0m\u001b[0;32m    154\u001b[0m \u001b[1;33m\u001b[0m\u001b[0m\n",
      "\u001b[1;31mTypeError\u001b[0m: unsupported operand type(s) for |: 'bool' and 'str'",
      "\nDuring handling of the above exception, another exception occurred:\n",
      "\u001b[1;31mTypeError\u001b[0m                                 Traceback (most recent call last)",
      "\u001b[1;32m<ipython-input-82-b897dd873f02>\u001b[0m in \u001b[0;36m<module>\u001b[1;34m()\u001b[0m\n\u001b[0;32m      1\u001b[0m \u001b[1;31m# what four things are wrong with this code?\u001b[0m\u001b[1;33m\u001b[0m\u001b[1;33m\u001b[0m\u001b[0m\n\u001b[1;32m----> 2\u001b[1;33m \u001b[0mri\u001b[0m\u001b[1;33m[\u001b[0m\u001b[0mri\u001b[0m\u001b[1;33m.\u001b[0m\u001b[0mstop_duration\u001b[0m \u001b[1;33m==\u001b[0m \u001b[1;36m1\u001b[0m \u001b[1;33m|\u001b[0m \u001b[0mri\u001b[0m\u001b[1;33m.\u001b[0m\u001b[0mstop_duration\u001b[0m \u001b[1;33m==\u001b[0m \u001b[1;36m2\u001b[0m\u001b[1;33m]\u001b[0m\u001b[1;33m.\u001b[0m\u001b[0mstop_duration\u001b[0m \u001b[1;33m=\u001b[0m \u001b[1;34m'NaN'\u001b[0m\u001b[1;33m\u001b[0m\u001b[0m\n\u001b[0m",
      "\u001b[1;32m~\\AppData\\Roaming\\Python\\Python36\\site-packages\\pandas\\core\\ops.py\u001b[0m in \u001b[0;36mwrapper\u001b[1;34m(self, other)\u001b[0m\n\u001b[0;32m   1358\u001b[0m                       is_integer_dtype(np.asarray(other)) else fill_bool)\n\u001b[0;32m   1359\u001b[0m \u001b[1;33m\u001b[0m\u001b[0m\n\u001b[1;32m-> 1360\u001b[1;33m             \u001b[0mres_values\u001b[0m \u001b[1;33m=\u001b[0m \u001b[0mna_op\u001b[0m\u001b[1;33m(\u001b[0m\u001b[0mself\u001b[0m\u001b[1;33m.\u001b[0m\u001b[0mvalues\u001b[0m\u001b[1;33m,\u001b[0m \u001b[0mother\u001b[0m\u001b[1;33m)\u001b[0m\u001b[1;33m\u001b[0m\u001b[0m\n\u001b[0m\u001b[0;32m   1361\u001b[0m             \u001b[0munfilled\u001b[0m \u001b[1;33m=\u001b[0m \u001b[0mself\u001b[0m\u001b[1;33m.\u001b[0m\u001b[0m_constructor\u001b[0m\u001b[1;33m(\u001b[0m\u001b[0mres_values\u001b[0m\u001b[1;33m,\u001b[0m \u001b[0mindex\u001b[0m\u001b[1;33m=\u001b[0m\u001b[0mself\u001b[0m\u001b[1;33m.\u001b[0m\u001b[0mindex\u001b[0m\u001b[1;33m)\u001b[0m\u001b[1;33m\u001b[0m\u001b[0m\n\u001b[0;32m   1362\u001b[0m             \u001b[1;32mreturn\u001b[0m \u001b[0mfiller\u001b[0m\u001b[1;33m(\u001b[0m\u001b[0munfilled\u001b[0m\u001b[1;33m)\u001b[0m\u001b[1;33m.\u001b[0m\u001b[0m__finalize__\u001b[0m\u001b[1;33m(\u001b[0m\u001b[0mself\u001b[0m\u001b[1;33m)\u001b[0m\u001b[1;33m\u001b[0m\u001b[0m\n",
      "\u001b[1;32m~\\AppData\\Roaming\\Python\\Python36\\site-packages\\pandas\\core\\ops.py\u001b[0m in \u001b[0;36mna_op\u001b[1;34m(x, y)\u001b[0m\n\u001b[0;32m   1324\u001b[0m                                     \u001b[1;34m\"with a scalar of type [{typ}]\"\u001b[0m\u001b[1;33m\u001b[0m\u001b[0m\n\u001b[0;32m   1325\u001b[0m                                     .format(dtype=x.dtype,\n\u001b[1;32m-> 1326\u001b[1;33m                                             typ=type(y).__name__))\n\u001b[0m\u001b[0;32m   1327\u001b[0m \u001b[1;33m\u001b[0m\u001b[0m\n\u001b[0;32m   1328\u001b[0m         \u001b[1;32mreturn\u001b[0m \u001b[0mresult\u001b[0m\u001b[1;33m\u001b[0m\u001b[0m\n",
      "\u001b[1;31mTypeError\u001b[0m: cannot compare a dtyped [object] array with a scalar of type [bool]"
     ]
    }
   ],
   "source": [
    "# what four things are wrong with this code?\n",
    "ri[ri.stop_duration == 1 | ri.stop_duration == 2].stop_duration = 'NaN'"
   ]
  },
  {
   "cell_type": "markdown",
   "metadata": {},
   "source": [
    "- 1- parenthesis for filtering <br>\n",
    "- 2- 1 and 2 are not ints ....they are strings (TypeError: cannot compare a dtyped [object] array with a scalar of type [bool]\n",
    ")"
   ]
  },
  {
   "cell_type": "code",
   "execution_count": 83,
   "metadata": {},
   "outputs": [
    {
     "data": {
      "text/plain": [
       "dtype('O')"
      ]
     },
     "execution_count": 83,
     "metadata": {},
     "output_type": "execute_result"
    }
   ],
   "source": [
    "ri['stop_duration'].dtypes"
   ]
  },
  {
   "cell_type": "markdown",
   "metadata": {},
   "source": [
    "This shows that it is object and it should contain strings as its data-points"
   ]
  },
  {
   "cell_type": "code",
   "execution_count": 84,
   "metadata": {},
   "outputs": [
    {
     "name": "stderr",
     "output_type": "stream",
     "text": [
      "C:\\Users\\Hassan\\AppData\\Roaming\\Python\\Python36\\site-packages\\pandas\\core\\generic.py:4405: SettingWithCopyWarning: \n",
      "A value is trying to be set on a copy of a slice from a DataFrame.\n",
      "Try using .loc[row_indexer,col_indexer] = value instead\n",
      "\n",
      "See the caveats in the documentation: http://pandas.pydata.org/pandas-docs/stable/indexing.html#indexing-view-versus-copy\n",
      "  self[name] = value\n"
     ]
    }
   ],
   "source": [
    "ri[(ri.stop_duration == '1') | (ri.stop_duration == '2')].stop_duration = 'NaN'"
   ]
  },
  {
   "cell_type": "code",
   "execution_count": 85,
   "metadata": {},
   "outputs": [
    {
     "data": {
      "text/plain": [
       "0-15 Min     69543\n",
       "16-30 Min    13635\n",
       "NaN           5333\n",
       "30+ Min       3228\n",
       "2                1\n",
       "1                1\n",
       "Name: stop_duration, dtype: int64"
      ]
     },
     "execution_count": 85,
     "metadata": {},
     "output_type": "execute_result"
    }
   ],
   "source": [
    "ri.stop_duration.value_counts(dropna=False)"
   ]
  },
  {
   "cell_type": "markdown",
   "metadata": {},
   "source": [
    "Nothing changed. Though it was only a warning yet we cannot ignore it."
   ]
  },
  {
   "cell_type": "code",
   "execution_count": 87,
   "metadata": {},
   "outputs": [],
   "source": [
    "# To fix setting with copy warning\n",
    "# Format is what rows we want....i.e ri.stop_duration == '1') | (ri.stop_duration == '2\n",
    "# For columns, we want to work on stop_duration so add then after comma\n",
    "ri.loc[(ri.stop_duration == '1') | (ri.stop_duration == '2'), 'stop_duration'] = 'NaN'"
   ]
  },
  {
   "cell_type": "code",
   "execution_count": 88,
   "metadata": {},
   "outputs": [
    {
     "data": {
      "text/plain": [
       "0-15 Min     69543\n",
       "16-30 Min    13635\n",
       "NaN           5333\n",
       "30+ Min       3228\n",
       "NaN              2\n",
       "Name: stop_duration, dtype: int64"
      ]
     },
     "execution_count": 88,
     "metadata": {},
     "output_type": "execute_result"
    }
   ],
   "source": [
    "ri.stop_duration.value_counts(dropna=False)"
   ]
  },
  {
   "cell_type": "markdown",
   "metadata": {},
   "source": [
    "We have two set of NaN. One with 5333 and one with 2. Did we duplicate?\n",
    "\n",
    "NaN with 2 is a acting as string. But, NaN is not a string. So, we need to fix NaN issue"
   ]
  },
  {
   "cell_type": "code",
   "execution_count": 89,
   "metadata": {},
   "outputs": [],
   "source": [
    "# replace 'NaN' string with actual NaN value\n",
    "import numpy as np\n",
    "ri.loc[ri.stop_duration == 'NaN', 'stop_duration'] = np.nan"
   ]
  },
  {
   "cell_type": "code",
   "execution_count": 90,
   "metadata": {},
   "outputs": [
    {
     "data": {
      "text/plain": [
       "0-15 Min     69543\n",
       "16-30 Min    13635\n",
       "NaN           5335\n",
       "30+ Min       3228\n",
       "Name: stop_duration, dtype: int64"
      ]
     },
     "execution_count": 90,
     "metadata": {},
     "output_type": "execute_result"
    }
   ],
   "source": [
    "ri.stop_duration.value_counts(dropna=False)"
   ]
  },
  {
   "cell_type": "markdown",
   "metadata": {},
   "source": [
    "NaN    .................       5335"
   ]
  },
  {
   "cell_type": "code",
   "execution_count": 91,
   "metadata": {},
   "outputs": [],
   "source": [
    "# alternative method\n",
    "ri.stop_duration.replace(['1', '2'], value=np.nan, inplace=True)"
   ]
  },
  {
   "cell_type": "code",
   "execution_count": 92,
   "metadata": {},
   "outputs": [
    {
     "data": {
      "text/plain": [
       "0-15 Min     69543\n",
       "16-30 Min    13635\n",
       "NaN           5335\n",
       "30+ Min       3228\n",
       "Name: stop_duration, dtype: int64"
      ]
     },
     "execution_count": 92,
     "metadata": {},
     "output_type": "execute_result"
    }
   ],
   "source": [
    "ri.stop_duration.value_counts(dropna=False)"
   ]
  },
  {
   "cell_type": "markdown",
   "metadata": {},
   "source": [
    "Key learning is: <br>\n",
    "    \n",
    "- Don't ignore the SettingWithCopyWarning\n",
    "- NaN is not a string"
   ]
  },
  {
   "cell_type": "markdown",
   "metadata": {},
   "source": [
    "# 11)- Convert strings to numbers\n",
    "\n",
    "What is the mean stop_duration for each violation_raw"
   ]
  },
  {
   "cell_type": "code",
   "execution_count": 93,
   "metadata": {},
   "outputs": [],
   "source": [
    "mapping = {'0-15 Min':8, '16-30 Min':23, '30+ Min':45}\n",
    "ri['stop_minutes'] = ri.stop_duration.map(mapping)"
   ]
  },
  {
   "cell_type": "code",
   "execution_count": 94,
   "metadata": {},
   "outputs": [
    {
     "data": {
      "text/plain": [
       "8.0     69543\n",
       "23.0    13635\n",
       "45.0     3228\n",
       "Name: stop_minutes, dtype: int64"
      ]
     },
     "execution_count": 94,
     "metadata": {},
     "output_type": "execute_result"
    }
   ],
   "source": [
    "# matches value_counts for stop_duration\n",
    "ri.stop_minutes.value_counts()"
   ]
  },
  {
   "cell_type": "code",
   "execution_count": 95,
   "metadata": {},
   "outputs": [
    {
     "data": {
      "text/plain": [
       "violation_raw\n",
       "APB                                 20.987342\n",
       "Call for Service                    22.034669\n",
       "Equipment/Inspection Violation      11.460345\n",
       "Motorist Assist/Courtesy            16.916256\n",
       "Other Traffic Violation             13.900265\n",
       "Registration Violation              13.745629\n",
       "Seatbelt Violation                   9.741531\n",
       "Special Detail/Directed Patrol      15.061100\n",
       "Speeding                            10.577690\n",
       "Suspicious Person                   18.750000\n",
       "Violation of City/Town Ordinance    13.388626\n",
       "Warrant                             21.400000\n",
       "Name: stop_minutes, dtype: float64"
      ]
     },
     "execution_count": 95,
     "metadata": {},
     "output_type": "execute_result"
    }
   ],
   "source": [
    "ri.groupby('violation_raw').stop_minutes.mean()"
   ]
  },
  {
   "cell_type": "code",
   "execution_count": 96,
   "metadata": {},
   "outputs": [
    {
     "data": {
      "text/html": [
       "<div>\n",
       "<style scoped>\n",
       "    .dataframe tbody tr th:only-of-type {\n",
       "        vertical-align: middle;\n",
       "    }\n",
       "\n",
       "    .dataframe tbody tr th {\n",
       "        vertical-align: top;\n",
       "    }\n",
       "\n",
       "    .dataframe thead th {\n",
       "        text-align: right;\n",
       "    }\n",
       "</style>\n",
       "<table border=\"1\" class=\"dataframe\">\n",
       "  <thead>\n",
       "    <tr style=\"text-align: right;\">\n",
       "      <th></th>\n",
       "      <th>mean</th>\n",
       "      <th>count</th>\n",
       "    </tr>\n",
       "    <tr>\n",
       "      <th>violation_raw</th>\n",
       "      <th></th>\n",
       "      <th></th>\n",
       "    </tr>\n",
       "  </thead>\n",
       "  <tbody>\n",
       "    <tr>\n",
       "      <th>APB</th>\n",
       "      <td>20.987342</td>\n",
       "      <td>79</td>\n",
       "    </tr>\n",
       "    <tr>\n",
       "      <th>Call for Service</th>\n",
       "      <td>22.034669</td>\n",
       "      <td>1298</td>\n",
       "    </tr>\n",
       "    <tr>\n",
       "      <th>Equipment/Inspection Violation</th>\n",
       "      <td>11.460345</td>\n",
       "      <td>11020</td>\n",
       "    </tr>\n",
       "    <tr>\n",
       "      <th>Motorist Assist/Courtesy</th>\n",
       "      <td>16.916256</td>\n",
       "      <td>203</td>\n",
       "    </tr>\n",
       "    <tr>\n",
       "      <th>Other Traffic Violation</th>\n",
       "      <td>13.900265</td>\n",
       "      <td>16223</td>\n",
       "    </tr>\n",
       "    <tr>\n",
       "      <th>Registration Violation</th>\n",
       "      <td>13.745629</td>\n",
       "      <td>3432</td>\n",
       "    </tr>\n",
       "    <tr>\n",
       "      <th>Seatbelt Violation</th>\n",
       "      <td>9.741531</td>\n",
       "      <td>2952</td>\n",
       "    </tr>\n",
       "    <tr>\n",
       "      <th>Special Detail/Directed Patrol</th>\n",
       "      <td>15.061100</td>\n",
       "      <td>2455</td>\n",
       "    </tr>\n",
       "    <tr>\n",
       "      <th>Speeding</th>\n",
       "      <td>10.577690</td>\n",
       "      <td>48462</td>\n",
       "    </tr>\n",
       "    <tr>\n",
       "      <th>Suspicious Person</th>\n",
       "      <td>18.750000</td>\n",
       "      <td>56</td>\n",
       "    </tr>\n",
       "    <tr>\n",
       "      <th>Violation of City/Town Ordinance</th>\n",
       "      <td>13.388626</td>\n",
       "      <td>211</td>\n",
       "    </tr>\n",
       "    <tr>\n",
       "      <th>Warrant</th>\n",
       "      <td>21.400000</td>\n",
       "      <td>15</td>\n",
       "    </tr>\n",
       "  </tbody>\n",
       "</table>\n",
       "</div>"
      ],
      "text/plain": [
       "                                       mean  count\n",
       "violation_raw                                     \n",
       "APB                               20.987342     79\n",
       "Call for Service                  22.034669   1298\n",
       "Equipment/Inspection Violation    11.460345  11020\n",
       "Motorist Assist/Courtesy          16.916256    203\n",
       "Other Traffic Violation           13.900265  16223\n",
       "Registration Violation            13.745629   3432\n",
       "Seatbelt Violation                 9.741531   2952\n",
       "Special Detail/Directed Patrol    15.061100   2455\n",
       "Speeding                          10.577690  48462\n",
       "Suspicious Person                 18.750000     56\n",
       "Violation of City/Town Ordinance  13.388626    211\n",
       "Warrant                           21.400000     15"
      ]
     },
     "execution_count": 96,
     "metadata": {},
     "output_type": "execute_result"
    }
   ],
   "source": [
    "ri.groupby('violation_raw').stop_minutes.agg(['mean', 'count'])"
   ]
  },
  {
   "cell_type": "markdown",
   "metadata": {},
   "source": [
    "# 12)- Other plotting\n",
    "\n",
    "Plot the results of groupby"
   ]
  },
  {
   "cell_type": "code",
   "execution_count": 97,
   "metadata": {},
   "outputs": [
    {
     "data": {
      "text/plain": [
       "Speeding                            48463\n",
       "Other Traffic Violation             16224\n",
       "Equipment/Inspection Violation      11020\n",
       "Registration Violation               3432\n",
       "Seatbelt Violation                   2952\n",
       "Special Detail/Directed Patrol       2455\n",
       "Call for Service                     1298\n",
       "Violation of City/Town Ordinance      211\n",
       "Motorist Assist/Courtesy              203\n",
       "APB                                    79\n",
       "Suspicious Person                      56\n",
       "Warrant                                15\n",
       "Name: violation_raw, dtype: int64"
      ]
     },
     "execution_count": 97,
     "metadata": {},
     "output_type": "execute_result"
    }
   ],
   "source": [
    "ri.violation_raw.value_counts()"
   ]
  },
  {
   "cell_type": "code",
   "execution_count": 98,
   "metadata": {},
   "outputs": [
    {
     "data": {
      "text/plain": [
       "<matplotlib.axes._subplots.AxesSubplot at 0x2828b1a12b0>"
      ]
     },
     "execution_count": 98,
     "metadata": {},
     "output_type": "execute_result"
    },
    {
     "data": {
      "image/png": "[encoded data removed]",
      "text/plain": [
       "<Figure size 432x288 with 1 Axes>"
      ]
     },
     "metadata": {},
     "output_type": "display_data"
    }
   ],
   "source": [
    "ri.groupby('violation_raw').stop_minutes.mean().plot()"
   ]
  },
  {
   "cell_type": "markdown",
   "metadata": {},
   "source": [
    "We don't get much info out of it. As we are using categorical variable. We better use bar plot"
   ]
  },
  {
   "cell_type": "markdown",
   "metadata": {},
   "source": [
    "### bar plot"
   ]
  },
  {
   "cell_type": "code",
   "execution_count": 99,
   "metadata": {},
   "outputs": [
    {
     "data": {
      "text/plain": [
       "<matplotlib.axes._subplots.AxesSubplot at 0x2828d66acc0>"
      ]
     },
     "execution_count": 99,
     "metadata": {},
     "output_type": "execute_result"
    },
    {
     "data": {
      "image/png": "[encoded data removed]",
      "text/plain": [
       "<Figure size 432x288 with 1 Axes>"
      ]
     },
     "metadata": {},
     "output_type": "display_data"
    }
   ],
   "source": [
    "ri.groupby('violation_raw').stop_minutes.mean().plot(kind='bar')"
   ]
  },
  {
   "cell_type": "code",
   "execution_count": 100,
   "metadata": {},
   "outputs": [
    {
     "data": {
      "text/plain": [
       "<matplotlib.axes._subplots.AxesSubplot at 0x2828af3a5c0>"
      ]
     },
     "execution_count": 100,
     "metadata": {},
     "output_type": "execute_result"
    },
    {
     "data": {
      "image/png": "[encoded data removed]",
      "text/plain": [
       "<Figure size 432x288 with 1 Axes>"
      ]
     },
     "metadata": {},
     "output_type": "display_data"
    }
   ],
   "source": [
    "ri.groupby('violation_raw').stop_minutes.mean().sort_values().plot(kind='barh')"
   ]
  },
  {
   "cell_type": "markdown",
   "metadata": {},
   "source": [
    "# 13)-Histogram\n",
    "Compare the age distributions for each violation"
   ]
  },
  {
   "cell_type": "code",
   "execution_count": 101,
   "metadata": {},
   "outputs": [
    {
     "data": {
      "text/html": [
       "<div>\n",
       "<style scoped>\n",
       "    .dataframe tbody tr th:only-of-type {\n",
       "        vertical-align: middle;\n",
       "    }\n",
       "\n",
       "    .dataframe tbody tr th {\n",
       "        vertical-align: top;\n",
       "    }\n",
       "\n",
       "    .dataframe thead th {\n",
       "        text-align: right;\n",
       "    }\n",
       "</style>\n",
       "<table border=\"1\" class=\"dataframe\">\n",
       "  <thead>\n",
       "    <tr style=\"text-align: right;\">\n",
       "      <th></th>\n",
       "      <th>count</th>\n",
       "      <th>mean</th>\n",
       "      <th>std</th>\n",
       "      <th>min</th>\n",
       "      <th>25%</th>\n",
       "      <th>50%</th>\n",
       "      <th>75%</th>\n",
       "      <th>max</th>\n",
       "    </tr>\n",
       "    <tr>\n",
       "      <th>violation</th>\n",
       "      <th></th>\n",
       "      <th></th>\n",
       "      <th></th>\n",
       "      <th></th>\n",
       "      <th></th>\n",
       "      <th></th>\n",
       "      <th></th>\n",
       "      <th></th>\n",
       "    </tr>\n",
       "  </thead>\n",
       "  <tbody>\n",
       "    <tr>\n",
       "      <th>Equipment</th>\n",
       "      <td>11007.0</td>\n",
       "      <td>31.781503</td>\n",
       "      <td>11.400900</td>\n",
       "      <td>16.0</td>\n",
       "      <td>23.0</td>\n",
       "      <td>28.0</td>\n",
       "      <td>38.0</td>\n",
       "      <td>89.0</td>\n",
       "    </tr>\n",
       "    <tr>\n",
       "      <th>Moving violation</th>\n",
       "      <td>16164.0</td>\n",
       "      <td>36.120020</td>\n",
       "      <td>13.185805</td>\n",
       "      <td>15.0</td>\n",
       "      <td>25.0</td>\n",
       "      <td>33.0</td>\n",
       "      <td>46.0</td>\n",
       "      <td>99.0</td>\n",
       "    </tr>\n",
       "    <tr>\n",
       "      <th>Other</th>\n",
       "      <td>4204.0</td>\n",
       "      <td>39.536870</td>\n",
       "      <td>13.034639</td>\n",
       "      <td>16.0</td>\n",
       "      <td>28.0</td>\n",
       "      <td>39.0</td>\n",
       "      <td>49.0</td>\n",
       "      <td>87.0</td>\n",
       "    </tr>\n",
       "    <tr>\n",
       "      <th>Registration/plates</th>\n",
       "      <td>3427.0</td>\n",
       "      <td>32.803035</td>\n",
       "      <td>11.033675</td>\n",
       "      <td>16.0</td>\n",
       "      <td>24.0</td>\n",
       "      <td>30.0</td>\n",
       "      <td>40.0</td>\n",
       "      <td>74.0</td>\n",
       "    </tr>\n",
       "    <tr>\n",
       "      <th>Seat belt</th>\n",
       "      <td>2952.0</td>\n",
       "      <td>32.206301</td>\n",
       "      <td>11.213122</td>\n",
       "      <td>17.0</td>\n",
       "      <td>24.0</td>\n",
       "      <td>29.0</td>\n",
       "      <td>38.0</td>\n",
       "      <td>77.0</td>\n",
       "    </tr>\n",
       "    <tr>\n",
       "      <th>Speeding</th>\n",
       "      <td>48361.0</td>\n",
       "      <td>33.530097</td>\n",
       "      <td>12.821847</td>\n",
       "      <td>15.0</td>\n",
       "      <td>23.0</td>\n",
       "      <td>30.0</td>\n",
       "      <td>42.0</td>\n",
       "      <td>90.0</td>\n",
       "    </tr>\n",
       "  </tbody>\n",
       "</table>\n",
       "</div>"
      ],
      "text/plain": [
       "                       count       mean        std   min   25%   50%   75%  \\\n",
       "violation                                                                    \n",
       "Equipment            11007.0  31.781503  11.400900  16.0  23.0  28.0  38.0   \n",
       "Moving violation     16164.0  36.120020  13.185805  15.0  25.0  33.0  46.0   \n",
       "Other                 4204.0  39.536870  13.034639  16.0  28.0  39.0  49.0   \n",
       "Registration/plates   3427.0  32.803035  11.033675  16.0  24.0  30.0  40.0   \n",
       "Seat belt             2952.0  32.206301  11.213122  17.0  24.0  29.0  38.0   \n",
       "Speeding             48361.0  33.530097  12.821847  15.0  23.0  30.0  42.0   \n",
       "\n",
       "                      max  \n",
       "violation                  \n",
       "Equipment            89.0  \n",
       "Moving violation     99.0  \n",
       "Other                87.0  \n",
       "Registration/plates  74.0  \n",
       "Seat belt            77.0  \n",
       "Speeding             90.0  "
      ]
     },
     "execution_count": 101,
     "metadata": {},
     "output_type": "execute_result"
    }
   ],
   "source": [
    "ri.groupby('violation').driver_age.describe()"
   ]
  },
  {
   "cell_type": "code",
   "execution_count": 102,
   "metadata": {},
   "outputs": [
    {
     "data": {
      "text/plain": [
       "<matplotlib.axes._subplots.AxesSubplot at 0x2828e07eb70>"
      ]
     },
     "execution_count": 102,
     "metadata": {},
     "output_type": "execute_result"
    },
    {
     "data": {
      "image/png": "[encoded data removed]",
      "text/plain": [
       "<Figure size 432x288 with 1 Axes>"
      ]
     },
     "metadata": {},
     "output_type": "display_data"
    }
   ],
   "source": [
    "ri.driver_age.plot(kind='hist')"
   ]
  },
  {
   "cell_type": "code",
   "execution_count": 103,
   "metadata": {},
   "outputs": [
    {
     "data": {
      "text/plain": [
       "<matplotlib.axes._subplots.AxesSubplot at 0x2828e387b00>"
      ]
     },
     "execution_count": 103,
     "metadata": {},
     "output_type": "execute_result"
    },
    {
     "data": {
      "image/png": "[encoded data removed]",
      "text/plain": [
       "<Figure size 432x288 with 1 Axes>"
      ]
     },
     "metadata": {},
     "output_type": "display_data"
    }
   ],
   "source": [
    "# similar to a histogram\n",
    "ri.driver_age.value_counts().sort_index().plot()"
   ]
  },
  {
   "cell_type": "code",
   "execution_count": 104,
   "metadata": {},
   "outputs": [
    {
     "data": {
      "text/plain": [
       "array([[<matplotlib.axes._subplots.AxesSubplot object at 0x000002828E4034E0>,\n",
       "        <matplotlib.axes._subplots.AxesSubplot object at 0x000002828E42BDD8>],\n",
       "       [<matplotlib.axes._subplots.AxesSubplot object at 0x0000028292B0A390>,\n",
       "        <matplotlib.axes._subplots.AxesSubplot object at 0x0000028292B30908>],\n",
       "       [<matplotlib.axes._subplots.AxesSubplot object at 0x0000028292B58E80>,\n",
       "        <matplotlib.axes._subplots.AxesSubplot object at 0x0000028292B89438>]],\n",
       "      dtype=object)"
      ]
     },
     "execution_count": 104,
     "metadata": {},
     "output_type": "execute_result"
    },
    {
     "data": {
      "image/png": "[encoded data removed]",
      "text/plain": [
       "<Figure size 432x288 with 6 Axes>"
      ]
     },
     "metadata": {},
     "output_type": "display_data"
    }
   ],
   "source": [
    "# can't use the plot method\n",
    "ri.hist('driver_age', by='violation')"
   ]
  },
  {
   "cell_type": "code",
   "execution_count": 105,
   "metadata": {},
   "outputs": [
    {
     "data": {
      "text/plain": [
       "array([[<matplotlib.axes._subplots.AxesSubplot object at 0x0000028292C8A7F0>,\n",
       "        <matplotlib.axes._subplots.AxesSubplot object at 0x0000028292CE18D0>],\n",
       "       [<matplotlib.axes._subplots.AxesSubplot object at 0x0000028292D06D30>,\n",
       "        <matplotlib.axes._subplots.AxesSubplot object at 0x0000028292D351D0>],\n",
       "       [<matplotlib.axes._subplots.AxesSubplot object at 0x0000028292D5D630>,\n",
       "        <matplotlib.axes._subplots.AxesSubplot object at 0x0000028292D81A90>]],\n",
       "      dtype=object)"
      ]
     },
     "execution_count": 105,
     "metadata": {},
     "output_type": "execute_result"
    },
    {
     "data": {
      "image/png": "[encoded data removed]",
      "text/plain": [
       "<Figure size 432x288 with 6 Axes>"
      ]
     },
     "metadata": {},
     "output_type": "display_data"
    }
   ],
   "source": [
    "# For better view of plots\n",
    "ri.hist('driver_age', by='violation', sharex=True)"
   ]
  },
  {
   "cell_type": "code",
   "execution_count": 106,
   "metadata": {},
   "outputs": [
    {
     "data": {
      "text/plain": [
       "array([[<matplotlib.axes._subplots.AxesSubplot object at 0x0000028292F17A20>,\n",
       "        <matplotlib.axes._subplots.AxesSubplot object at 0x0000028292F3FC50>],\n",
       "       [<matplotlib.axes._subplots.AxesSubplot object at 0x0000028292F68F28>,\n",
       "        <matplotlib.axes._subplots.AxesSubplot object at 0x0000028292F97240>],\n",
       "       [<matplotlib.axes._subplots.AxesSubplot object at 0x0000028292FBE518>,\n",
       "        <matplotlib.axes._subplots.AxesSubplot object at 0x0000028292FE67F0>]],\n",
       "      dtype=object)"
      ]
     },
     "execution_count": 106,
     "metadata": {},
     "output_type": "execute_result"
    },
    {
     "data": {
      "image/png": "[encoded data removed]",
      "text/plain": [
       "<Figure size 432x288 with 6 Axes>"
      ]
     },
     "metadata": {},
     "output_type": "display_data"
    }
   ],
   "source": [
    "ri.hist('driver_age', by='violation', sharex=True, sharey=True)"
   ]
  },
  {
   "cell_type": "markdown",
   "metadata": {},
   "source": [
    "We need to be conscious of axes when using grouped plots"
   ]
  },
  {
   "cell_type": "markdown",
   "metadata": {},
   "source": [
    "# 14)- Add feature\n",
    "\n",
    "Pretend you don't have the driver_age column, and create it from driver_age_raw (and call it new_age)"
   ]
  },
  {
   "cell_type": "code",
   "execution_count": 107,
   "metadata": {},
   "outputs": [
    {
     "data": {
      "text/html": [
       "<div>\n",
       "<style scoped>\n",
       "    .dataframe tbody tr th:only-of-type {\n",
       "        vertical-align: middle;\n",
       "    }\n",
       "\n",
       "    .dataframe tbody tr th {\n",
       "        vertical-align: top;\n",
       "    }\n",
       "\n",
       "    .dataframe thead th {\n",
       "        text-align: right;\n",
       "    }\n",
       "</style>\n",
       "<table border=\"1\" class=\"dataframe\">\n",
       "  <thead>\n",
       "    <tr style=\"text-align: right;\">\n",
       "      <th></th>\n",
       "      <th>stop_date</th>\n",
       "      <th>stop_time</th>\n",
       "      <th>driver_gender</th>\n",
       "      <th>driver_age_raw</th>\n",
       "      <th>driver_age</th>\n",
       "      <th>driver_race</th>\n",
       "      <th>violation_raw</th>\n",
       "      <th>violation</th>\n",
       "      <th>search_conducted</th>\n",
       "      <th>search_type</th>\n",
       "      <th>stop_outcome</th>\n",
       "      <th>is_arrested</th>\n",
       "      <th>stop_duration</th>\n",
       "      <th>drugs_related_stop</th>\n",
       "      <th>frisk</th>\n",
       "      <th>stop_datetime</th>\n",
       "      <th>stop_minutes</th>\n",
       "    </tr>\n",
       "  </thead>\n",
       "  <tbody>\n",
       "    <tr>\n",
       "      <th>0</th>\n",
       "      <td>2005-01-02</td>\n",
       "      <td>01:55</td>\n",
       "      <td>M</td>\n",
       "      <td>1985.0</td>\n",
       "      <td>20.0</td>\n",
       "      <td>White</td>\n",
       "      <td>Speeding</td>\n",
       "      <td>Speeding</td>\n",
       "      <td>False</td>\n",
       "      <td>NaN</td>\n",
       "      <td>Citation</td>\n",
       "      <td>False</td>\n",
       "      <td>0-15 Min</td>\n",
       "      <td>False</td>\n",
       "      <td>NaN</td>\n",
       "      <td>2005-01-02 01:55:00</td>\n",
       "      <td>8.0</td>\n",
       "    </tr>\n",
       "    <tr>\n",
       "      <th>1</th>\n",
       "      <td>2005-01-18</td>\n",
       "      <td>08:15</td>\n",
       "      <td>M</td>\n",
       "      <td>1965.0</td>\n",
       "      <td>40.0</td>\n",
       "      <td>White</td>\n",
       "      <td>Speeding</td>\n",
       "      <td>Speeding</td>\n",
       "      <td>False</td>\n",
       "      <td>NaN</td>\n",
       "      <td>Citation</td>\n",
       "      <td>False</td>\n",
       "      <td>0-15 Min</td>\n",
       "      <td>False</td>\n",
       "      <td>NaN</td>\n",
       "      <td>2005-01-18 08:15:00</td>\n",
       "      <td>8.0</td>\n",
       "    </tr>\n",
       "    <tr>\n",
       "      <th>2</th>\n",
       "      <td>2005-01-23</td>\n",
       "      <td>23:15</td>\n",
       "      <td>M</td>\n",
       "      <td>1972.0</td>\n",
       "      <td>33.0</td>\n",
       "      <td>White</td>\n",
       "      <td>Speeding</td>\n",
       "      <td>Speeding</td>\n",
       "      <td>False</td>\n",
       "      <td>NaN</td>\n",
       "      <td>Citation</td>\n",
       "      <td>False</td>\n",
       "      <td>0-15 Min</td>\n",
       "      <td>False</td>\n",
       "      <td>NaN</td>\n",
       "      <td>2005-01-23 23:15:00</td>\n",
       "      <td>8.0</td>\n",
       "    </tr>\n",
       "    <tr>\n",
       "      <th>3</th>\n",
       "      <td>2005-02-20</td>\n",
       "      <td>17:15</td>\n",
       "      <td>M</td>\n",
       "      <td>1986.0</td>\n",
       "      <td>19.0</td>\n",
       "      <td>White</td>\n",
       "      <td>Call for Service</td>\n",
       "      <td>Other</td>\n",
       "      <td>False</td>\n",
       "      <td>NaN</td>\n",
       "      <td>Arrest Driver</td>\n",
       "      <td>True</td>\n",
       "      <td>16-30 Min</td>\n",
       "      <td>False</td>\n",
       "      <td>NaN</td>\n",
       "      <td>2005-02-20 17:15:00</td>\n",
       "      <td>23.0</td>\n",
       "    </tr>\n",
       "    <tr>\n",
       "      <th>4</th>\n",
       "      <td>2005-03-14</td>\n",
       "      <td>10:00</td>\n",
       "      <td>F</td>\n",
       "      <td>1984.0</td>\n",
       "      <td>21.0</td>\n",
       "      <td>White</td>\n",
       "      <td>Speeding</td>\n",
       "      <td>Speeding</td>\n",
       "      <td>False</td>\n",
       "      <td>NaN</td>\n",
       "      <td>Citation</td>\n",
       "      <td>False</td>\n",
       "      <td>0-15 Min</td>\n",
       "      <td>False</td>\n",
       "      <td>NaN</td>\n",
       "      <td>2005-03-14 10:00:00</td>\n",
       "      <td>8.0</td>\n",
       "    </tr>\n",
       "  </tbody>\n",
       "</table>\n",
       "</div>"
      ],
      "text/plain": [
       "    stop_date stop_time driver_gender  driver_age_raw  driver_age driver_race  \\\n",
       "0  2005-01-02     01:55             M          1985.0        20.0       White   \n",
       "1  2005-01-18     08:15             M          1965.0        40.0       White   \n",
       "2  2005-01-23     23:15             M          1972.0        33.0       White   \n",
       "3  2005-02-20     17:15             M          1986.0        19.0       White   \n",
       "4  2005-03-14     10:00             F          1984.0        21.0       White   \n",
       "\n",
       "      violation_raw violation  search_conducted search_type   stop_outcome  \\\n",
       "0          Speeding  Speeding             False         NaN       Citation   \n",
       "1          Speeding  Speeding             False         NaN       Citation   \n",
       "2          Speeding  Speeding             False         NaN       Citation   \n",
       "3  Call for Service     Other             False         NaN  Arrest Driver   \n",
       "4          Speeding  Speeding             False         NaN       Citation   \n",
       "\n",
       "  is_arrested stop_duration  drugs_related_stop frisk       stop_datetime  \\\n",
       "0       False      0-15 Min               False   NaN 2005-01-02 01:55:00   \n",
       "1       False      0-15 Min               False   NaN 2005-01-18 08:15:00   \n",
       "2       False      0-15 Min               False   NaN 2005-01-23 23:15:00   \n",
       "3        True     16-30 Min               False   NaN 2005-02-20 17:15:00   \n",
       "4       False      0-15 Min               False   NaN 2005-03-14 10:00:00   \n",
       "\n",
       "   stop_minutes  \n",
       "0           8.0  \n",
       "1           8.0  \n",
       "2           8.0  \n",
       "3          23.0  \n",
       "4           8.0  "
      ]
     },
     "execution_count": 107,
     "metadata": {},
     "output_type": "execute_result"
    }
   ],
   "source": [
    "ri.head()"
   ]
  },
  {
   "cell_type": "code",
   "execution_count": 109,
   "metadata": {},
   "outputs": [
    {
     "data": {
      "text/html": [
       "<div>\n",
       "<style scoped>\n",
       "    .dataframe tbody tr th:only-of-type {\n",
       "        vertical-align: middle;\n",
       "    }\n",
       "\n",
       "    .dataframe tbody tr th {\n",
       "        vertical-align: top;\n",
       "    }\n",
       "\n",
       "    .dataframe thead th {\n",
       "        text-align: right;\n",
       "    }\n",
       "</style>\n",
       "<table border=\"1\" class=\"dataframe\">\n",
       "  <thead>\n",
       "    <tr style=\"text-align: right;\">\n",
       "      <th></th>\n",
       "      <th>stop_date</th>\n",
       "      <th>stop_time</th>\n",
       "      <th>driver_gender</th>\n",
       "      <th>driver_age_raw</th>\n",
       "      <th>driver_age</th>\n",
       "      <th>driver_race</th>\n",
       "      <th>violation_raw</th>\n",
       "      <th>violation</th>\n",
       "      <th>search_conducted</th>\n",
       "      <th>search_type</th>\n",
       "      <th>stop_outcome</th>\n",
       "      <th>is_arrested</th>\n",
       "      <th>stop_duration</th>\n",
       "      <th>drugs_related_stop</th>\n",
       "      <th>frisk</th>\n",
       "      <th>stop_datetime</th>\n",
       "      <th>stop_minutes</th>\n",
       "    </tr>\n",
       "  </thead>\n",
       "  <tbody>\n",
       "    <tr>\n",
       "      <th>91736</th>\n",
       "      <td>2015-12-31</td>\n",
       "      <td>20:27</td>\n",
       "      <td>M</td>\n",
       "      <td>1986.0</td>\n",
       "      <td>29.0</td>\n",
       "      <td>White</td>\n",
       "      <td>Speeding</td>\n",
       "      <td>Speeding</td>\n",
       "      <td>False</td>\n",
       "      <td>NaN</td>\n",
       "      <td>Warning</td>\n",
       "      <td>False</td>\n",
       "      <td>0-15 Min</td>\n",
       "      <td>False</td>\n",
       "      <td>NaN</td>\n",
       "      <td>2015-12-31 20:27:00</td>\n",
       "      <td>8.0</td>\n",
       "    </tr>\n",
       "    <tr>\n",
       "      <th>91737</th>\n",
       "      <td>2015-12-31</td>\n",
       "      <td>20:35</td>\n",
       "      <td>F</td>\n",
       "      <td>1982.0</td>\n",
       "      <td>33.0</td>\n",
       "      <td>White</td>\n",
       "      <td>Equipment/Inspection Violation</td>\n",
       "      <td>Equipment</td>\n",
       "      <td>False</td>\n",
       "      <td>NaN</td>\n",
       "      <td>Warning</td>\n",
       "      <td>False</td>\n",
       "      <td>0-15 Min</td>\n",
       "      <td>False</td>\n",
       "      <td>NaN</td>\n",
       "      <td>2015-12-31 20:35:00</td>\n",
       "      <td>8.0</td>\n",
       "    </tr>\n",
       "    <tr>\n",
       "      <th>91738</th>\n",
       "      <td>2015-12-31</td>\n",
       "      <td>20:45</td>\n",
       "      <td>M</td>\n",
       "      <td>1992.0</td>\n",
       "      <td>23.0</td>\n",
       "      <td>White</td>\n",
       "      <td>Other Traffic Violation</td>\n",
       "      <td>Moving violation</td>\n",
       "      <td>False</td>\n",
       "      <td>NaN</td>\n",
       "      <td>Warning</td>\n",
       "      <td>False</td>\n",
       "      <td>0-15 Min</td>\n",
       "      <td>False</td>\n",
       "      <td>NaN</td>\n",
       "      <td>2015-12-31 20:45:00</td>\n",
       "      <td>8.0</td>\n",
       "    </tr>\n",
       "    <tr>\n",
       "      <th>91739</th>\n",
       "      <td>2015-12-31</td>\n",
       "      <td>21:42</td>\n",
       "      <td>M</td>\n",
       "      <td>1993.0</td>\n",
       "      <td>22.0</td>\n",
       "      <td>White</td>\n",
       "      <td>Speeding</td>\n",
       "      <td>Speeding</td>\n",
       "      <td>False</td>\n",
       "      <td>NaN</td>\n",
       "      <td>Citation</td>\n",
       "      <td>False</td>\n",
       "      <td>0-15 Min</td>\n",
       "      <td>False</td>\n",
       "      <td>NaN</td>\n",
       "      <td>2015-12-31 21:42:00</td>\n",
       "      <td>8.0</td>\n",
       "    </tr>\n",
       "    <tr>\n",
       "      <th>91740</th>\n",
       "      <td>2015-12-31</td>\n",
       "      <td>22:46</td>\n",
       "      <td>M</td>\n",
       "      <td>1959.0</td>\n",
       "      <td>56.0</td>\n",
       "      <td>Hispanic</td>\n",
       "      <td>Speeding</td>\n",
       "      <td>Speeding</td>\n",
       "      <td>False</td>\n",
       "      <td>NaN</td>\n",
       "      <td>Citation</td>\n",
       "      <td>False</td>\n",
       "      <td>0-15 Min</td>\n",
       "      <td>False</td>\n",
       "      <td>NaN</td>\n",
       "      <td>2015-12-31 22:46:00</td>\n",
       "      <td>8.0</td>\n",
       "    </tr>\n",
       "  </tbody>\n",
       "</table>\n",
       "</div>"
      ],
      "text/plain": [
       "        stop_date stop_time driver_gender  driver_age_raw  driver_age  \\\n",
       "91736  2015-12-31     20:27             M          1986.0        29.0   \n",
       "91737  2015-12-31     20:35             F          1982.0        33.0   \n",
       "91738  2015-12-31     20:45             M          1992.0        23.0   \n",
       "91739  2015-12-31     21:42             M          1993.0        22.0   \n",
       "91740  2015-12-31     22:46             M          1959.0        56.0   \n",
       "\n",
       "      driver_race                   violation_raw         violation  \\\n",
       "91736       White                        Speeding          Speeding   \n",
       "91737       White  Equipment/Inspection Violation         Equipment   \n",
       "91738       White         Other Traffic Violation  Moving violation   \n",
       "91739       White                        Speeding          Speeding   \n",
       "91740    Hispanic                        Speeding          Speeding   \n",
       "\n",
       "       search_conducted search_type stop_outcome is_arrested stop_duration  \\\n",
       "91736             False         NaN      Warning       False      0-15 Min   \n",
       "91737             False         NaN      Warning       False      0-15 Min   \n",
       "91738             False         NaN      Warning       False      0-15 Min   \n",
       "91739             False         NaN     Citation       False      0-15 Min   \n",
       "91740             False         NaN     Citation       False      0-15 Min   \n",
       "\n",
       "       drugs_related_stop frisk       stop_datetime  stop_minutes  \n",
       "91736               False   NaN 2015-12-31 20:27:00           8.0  \n",
       "91737               False   NaN 2015-12-31 20:35:00           8.0  \n",
       "91738               False   NaN 2015-12-31 20:45:00           8.0  \n",
       "91739               False   NaN 2015-12-31 21:42:00           8.0  \n",
       "91740               False   NaN 2015-12-31 22:46:00           8.0  "
      ]
     },
     "execution_count": 109,
     "metadata": {},
     "output_type": "execute_result"
    }
   ],
   "source": [
    "ri.tail()"
   ]
  },
  {
   "cell_type": "code",
   "execution_count": 110,
   "metadata": {},
   "outputs": [],
   "source": [
    "ri['new_age'] = ri.stop_datetime.dt.year - ri.driver_age_raw"
   ]
  },
  {
   "cell_type": "code",
   "execution_count": 111,
   "metadata": {},
   "outputs": [
    {
     "data": {
      "text/plain": [
       "array([[<matplotlib.axes._subplots.AxesSubplot object at 0x000002829312B358>,\n",
       "        <matplotlib.axes._subplots.AxesSubplot object at 0x00000282931EEA58>]],\n",
       "      dtype=object)"
      ]
     },
     "execution_count": 111,
     "metadata": {},
     "output_type": "execute_result"
    },
    {
     "data": {
      "image/png": "[encoded data removed]",
      "text/plain": [
       "<Figure size 432x288 with 2 Axes>"
      ]
     },
     "metadata": {},
     "output_type": "display_data"
    }
   ],
   "source": [
    "# compare the distributions\n",
    "ri[['driver_age', 'new_age']].hist()"
   ]
  },
  {
   "cell_type": "code",
   "execution_count": 112,
   "metadata": {},
   "outputs": [
    {
     "data": {
      "text/html": [
       "<div>\n",
       "<style scoped>\n",
       "    .dataframe tbody tr th:only-of-type {\n",
       "        vertical-align: middle;\n",
       "    }\n",
       "\n",
       "    .dataframe tbody tr th {\n",
       "        vertical-align: top;\n",
       "    }\n",
       "\n",
       "    .dataframe thead th {\n",
       "        text-align: right;\n",
       "    }\n",
       "</style>\n",
       "<table border=\"1\" class=\"dataframe\">\n",
       "  <thead>\n",
       "    <tr style=\"text-align: right;\">\n",
       "      <th></th>\n",
       "      <th>driver_age</th>\n",
       "      <th>new_age</th>\n",
       "    </tr>\n",
       "  </thead>\n",
       "  <tbody>\n",
       "    <tr>\n",
       "      <th>count</th>\n",
       "      <td>86120.000000</td>\n",
       "      <td>86414.000000</td>\n",
       "    </tr>\n",
       "    <tr>\n",
       "      <th>mean</th>\n",
       "      <td>34.011333</td>\n",
       "      <td>39.784294</td>\n",
       "    </tr>\n",
       "    <tr>\n",
       "      <th>std</th>\n",
       "      <td>12.738564</td>\n",
       "      <td>110.822145</td>\n",
       "    </tr>\n",
       "    <tr>\n",
       "      <th>min</th>\n",
       "      <td>15.000000</td>\n",
       "      <td>-6794.000000</td>\n",
       "    </tr>\n",
       "    <tr>\n",
       "      <th>25%</th>\n",
       "      <td>23.000000</td>\n",
       "      <td>24.000000</td>\n",
       "    </tr>\n",
       "    <tr>\n",
       "      <th>50%</th>\n",
       "      <td>31.000000</td>\n",
       "      <td>31.000000</td>\n",
       "    </tr>\n",
       "    <tr>\n",
       "      <th>75%</th>\n",
       "      <td>43.000000</td>\n",
       "      <td>43.000000</td>\n",
       "    </tr>\n",
       "    <tr>\n",
       "      <th>max</th>\n",
       "      <td>99.000000</td>\n",
       "      <td>2015.000000</td>\n",
       "    </tr>\n",
       "  </tbody>\n",
       "</table>\n",
       "</div>"
      ],
      "text/plain": [
       "         driver_age       new_age\n",
       "count  86120.000000  86414.000000\n",
       "mean      34.011333     39.784294\n",
       "std       12.738564    110.822145\n",
       "min       15.000000  -6794.000000\n",
       "25%       23.000000     24.000000\n",
       "50%       31.000000     31.000000\n",
       "75%       43.000000     43.000000\n",
       "max       99.000000   2015.000000"
      ]
     },
     "execution_count": 112,
     "metadata": {},
     "output_type": "execute_result"
    }
   ],
   "source": [
    "# compare the summary statistics (focus on min and max)\n",
    "ri[['driver_age', 'new_age']].describe()"
   ]
  },
  {
   "cell_type": "code",
   "execution_count": 113,
   "metadata": {},
   "outputs": [
    {
     "data": {
      "text/plain": [
       "(294, 18)"
      ]
     },
     "execution_count": 113,
     "metadata": {},
     "output_type": "execute_result"
    }
   ],
   "source": [
    "# calculate how many ages are outside that range\n",
    "ri[(ri.new_age < 15) | (ri.new_age > 99)].shape"
   ]
  },
  {
   "cell_type": "code",
   "execution_count": 114,
   "metadata": {},
   "outputs": [
    {
     "data": {
      "text/plain": [
       "5327"
      ]
     },
     "execution_count": 114,
     "metadata": {},
     "output_type": "execute_result"
    }
   ],
   "source": [
    "# raw data given to the researchers\n",
    "ri.driver_age_raw.isnull().sum()"
   ]
  },
  {
   "cell_type": "code",
   "execution_count": 115,
   "metadata": {},
   "outputs": [
    {
     "data": {
      "text/plain": [
       "5621"
      ]
     },
     "execution_count": 115,
     "metadata": {},
     "output_type": "execute_result"
    }
   ],
   "source": [
    "# age computed by the researchers (has more missing values)\n",
    "ri.driver_age.isnull().sum()"
   ]
  },
  {
   "cell_type": "code",
   "execution_count": 116,
   "metadata": {},
   "outputs": [
    {
     "data": {
      "text/plain": [
       "294"
      ]
     },
     "execution_count": 116,
     "metadata": {},
     "output_type": "execute_result"
    }
   ],
   "source": [
    "#researchers set driver_age as missing if less than 15 or more than 99\n",
    "5621-5327"
   ]
  },
  {
   "cell_type": "code",
   "execution_count": 117,
   "metadata": {},
   "outputs": [
    {
     "data": {
      "text/html": [
       "<div>\n",
       "<style scoped>\n",
       "    .dataframe tbody tr th:only-of-type {\n",
       "        vertical-align: middle;\n",
       "    }\n",
       "\n",
       "    .dataframe tbody tr th {\n",
       "        vertical-align: top;\n",
       "    }\n",
       "\n",
       "    .dataframe thead th {\n",
       "        text-align: right;\n",
       "    }\n",
       "</style>\n",
       "<table border=\"1\" class=\"dataframe\">\n",
       "  <thead>\n",
       "    <tr style=\"text-align: right;\">\n",
       "      <th></th>\n",
       "      <th>stop_date</th>\n",
       "      <th>stop_time</th>\n",
       "      <th>driver_gender</th>\n",
       "      <th>driver_age_raw</th>\n",
       "      <th>driver_age</th>\n",
       "      <th>driver_race</th>\n",
       "      <th>violation_raw</th>\n",
       "      <th>violation</th>\n",
       "      <th>search_conducted</th>\n",
       "      <th>search_type</th>\n",
       "      <th>stop_outcome</th>\n",
       "      <th>is_arrested</th>\n",
       "      <th>stop_duration</th>\n",
       "      <th>drugs_related_stop</th>\n",
       "      <th>frisk</th>\n",
       "      <th>stop_datetime</th>\n",
       "      <th>stop_minutes</th>\n",
       "      <th>new_age</th>\n",
       "    </tr>\n",
       "  </thead>\n",
       "  <tbody>\n",
       "    <tr>\n",
       "      <th>146</th>\n",
       "      <td>2005-10-05</td>\n",
       "      <td>08:50</td>\n",
       "      <td>M</td>\n",
       "      <td>0.0</td>\n",
       "      <td>NaN</td>\n",
       "      <td>White</td>\n",
       "      <td>Other Traffic Violation</td>\n",
       "      <td>Moving violation</td>\n",
       "      <td>False</td>\n",
       "      <td>NaN</td>\n",
       "      <td>Citation</td>\n",
       "      <td>False</td>\n",
       "      <td>0-15 Min</td>\n",
       "      <td>False</td>\n",
       "      <td>NaN</td>\n",
       "      <td>2005-10-05 08:50:00</td>\n",
       "      <td>8.0</td>\n",
       "      <td>2005.0</td>\n",
       "    </tr>\n",
       "    <tr>\n",
       "      <th>281</th>\n",
       "      <td>2005-10-10</td>\n",
       "      <td>12:05</td>\n",
       "      <td>F</td>\n",
       "      <td>0.0</td>\n",
       "      <td>NaN</td>\n",
       "      <td>White</td>\n",
       "      <td>Other Traffic Violation</td>\n",
       "      <td>Moving violation</td>\n",
       "      <td>False</td>\n",
       "      <td>NaN</td>\n",
       "      <td>Warning</td>\n",
       "      <td>False</td>\n",
       "      <td>0-15 Min</td>\n",
       "      <td>False</td>\n",
       "      <td>NaN</td>\n",
       "      <td>2005-10-10 12:05:00</td>\n",
       "      <td>8.0</td>\n",
       "      <td>2005.0</td>\n",
       "    </tr>\n",
       "    <tr>\n",
       "      <th>331</th>\n",
       "      <td>2005-10-12</td>\n",
       "      <td>07:50</td>\n",
       "      <td>M</td>\n",
       "      <td>0.0</td>\n",
       "      <td>NaN</td>\n",
       "      <td>White</td>\n",
       "      <td>Motorist Assist/Courtesy</td>\n",
       "      <td>Other</td>\n",
       "      <td>False</td>\n",
       "      <td>NaN</td>\n",
       "      <td>No Action</td>\n",
       "      <td>False</td>\n",
       "      <td>0-15 Min</td>\n",
       "      <td>False</td>\n",
       "      <td>NaN</td>\n",
       "      <td>2005-10-12 07:50:00</td>\n",
       "      <td>8.0</td>\n",
       "      <td>2005.0</td>\n",
       "    </tr>\n",
       "    <tr>\n",
       "      <th>414</th>\n",
       "      <td>2005-10-17</td>\n",
       "      <td>08:32</td>\n",
       "      <td>M</td>\n",
       "      <td>2005.0</td>\n",
       "      <td>NaN</td>\n",
       "      <td>White</td>\n",
       "      <td>Other Traffic Violation</td>\n",
       "      <td>Moving violation</td>\n",
       "      <td>False</td>\n",
       "      <td>NaN</td>\n",
       "      <td>Citation</td>\n",
       "      <td>False</td>\n",
       "      <td>0-15 Min</td>\n",
       "      <td>False</td>\n",
       "      <td>NaN</td>\n",
       "      <td>2005-10-17 08:32:00</td>\n",
       "      <td>8.0</td>\n",
       "      <td>0.0</td>\n",
       "    </tr>\n",
       "    <tr>\n",
       "      <th>455</th>\n",
       "      <td>2005-10-18</td>\n",
       "      <td>18:30</td>\n",
       "      <td>F</td>\n",
       "      <td>0.0</td>\n",
       "      <td>NaN</td>\n",
       "      <td>White</td>\n",
       "      <td>Speeding</td>\n",
       "      <td>Speeding</td>\n",
       "      <td>False</td>\n",
       "      <td>NaN</td>\n",
       "      <td>Warning</td>\n",
       "      <td>False</td>\n",
       "      <td>0-15 Min</td>\n",
       "      <td>False</td>\n",
       "      <td>NaN</td>\n",
       "      <td>2005-10-18 18:30:00</td>\n",
       "      <td>8.0</td>\n",
       "      <td>2005.0</td>\n",
       "    </tr>\n",
       "  </tbody>\n",
       "</table>\n",
       "</div>"
      ],
      "text/plain": [
       "      stop_date stop_time driver_gender  driver_age_raw  driver_age  \\\n",
       "146  2005-10-05     08:50             M             0.0         NaN   \n",
       "281  2005-10-10     12:05             F             0.0         NaN   \n",
       "331  2005-10-12     07:50             M             0.0         NaN   \n",
       "414  2005-10-17     08:32             M          2005.0         NaN   \n",
       "455  2005-10-18     18:30             F             0.0         NaN   \n",
       "\n",
       "    driver_race             violation_raw         violation  search_conducted  \\\n",
       "146       White   Other Traffic Violation  Moving violation             False   \n",
       "281       White   Other Traffic Violation  Moving violation             False   \n",
       "331       White  Motorist Assist/Courtesy             Other             False   \n",
       "414       White   Other Traffic Violation  Moving violation             False   \n",
       "455       White                  Speeding          Speeding             False   \n",
       "\n",
       "    search_type stop_outcome is_arrested stop_duration  drugs_related_stop  \\\n",
       "146         NaN     Citation       False      0-15 Min               False   \n",
       "281         NaN      Warning       False      0-15 Min               False   \n",
       "331         NaN    No Action       False      0-15 Min               False   \n",
       "414         NaN     Citation       False      0-15 Min               False   \n",
       "455         NaN      Warning       False      0-15 Min               False   \n",
       "\n",
       "    frisk       stop_datetime  stop_minutes  new_age  \n",
       "146   NaN 2005-10-05 08:50:00           8.0   2005.0  \n",
       "281   NaN 2005-10-10 12:05:00           8.0   2005.0  \n",
       "331   NaN 2005-10-12 07:50:00           8.0   2005.0  \n",
       "414   NaN 2005-10-17 08:32:00           8.0      0.0  \n",
       "455   NaN 2005-10-18 18:30:00           8.0   2005.0  "
      ]
     },
     "execution_count": 117,
     "metadata": {},
     "output_type": "execute_result"
    }
   ],
   "source": [
    "# driver_age_raw NOT MISSING, driver_age MISSING\n",
    "ri[(ri.driver_age_raw.notnull()) & (ri.driver_age.isnull())].head()"
   ]
  },
  {
   "cell_type": "code",
   "execution_count": 118,
   "metadata": {},
   "outputs": [],
   "source": [
    "# set the ages outside that range as missing\n",
    "ri.loc[(ri.new_age < 15) | (ri.new_age > 99), 'new_age'] = np.nan"
   ]
  },
  {
   "cell_type": "code",
   "execution_count": 119,
   "metadata": {},
   "outputs": [
    {
     "data": {
      "text/plain": [
       "True"
      ]
     },
     "execution_count": 119,
     "metadata": {},
     "output_type": "execute_result"
    }
   ],
   "source": [
    "ri.new_age.equals(ri.driver_age)"
   ]
  },
  {
   "cell_type": "code",
   "execution_count": 120,
   "metadata": {},
   "outputs": [
    {
     "data": {
      "text/plain": [
       "NaN      5621\n",
       " 22.0    4125\n",
       " 21.0    4063\n",
       " 23.0    3986\n",
       " 20.0    3794\n",
       " 24.0    3782\n",
       " 25.0    3537\n",
       " 26.0    3335\n",
       " 19.0    3228\n",
       " 27.0    3048\n",
       " 28.0    2781\n",
       " 29.0    2541\n",
       " 30.0    2436\n",
       " 31.0    2200\n",
       " 32.0    2186\n",
       " 33.0    1956\n",
       " 35.0    1868\n",
       " 34.0    1826\n",
       " 18.0    1734\n",
       " 36.0    1709\n",
       " 37.0    1631\n",
       " 38.0    1602\n",
       " 40.0    1582\n",
       " 43.0    1571\n",
       " 39.0    1558\n",
       " 42.0    1528\n",
       " 41.0    1496\n",
       " 44.0    1445\n",
       " 45.0    1378\n",
       " 46.0    1357\n",
       "         ... \n",
       " 65.0     258\n",
       " 66.0     227\n",
       " 67.0     174\n",
       " 68.0     148\n",
       " 69.0     120\n",
       " 70.0     115\n",
       " 71.0      94\n",
       " 72.0      76\n",
       " 73.0      66\n",
       " 74.0      51\n",
       " 16.0      45\n",
       " 75.0      44\n",
       " 76.0      42\n",
       " 77.0      34\n",
       " 79.0      24\n",
       " 78.0      22\n",
       " 80.0      18\n",
       " 81.0      13\n",
       " 82.0      12\n",
       " 84.0       9\n",
       " 86.0       7\n",
       " 83.0       7\n",
       " 87.0       6\n",
       " 85.0       6\n",
       " 15.0       5\n",
       " 88.0       2\n",
       " 94.0       1\n",
       " 90.0       1\n",
       " 99.0       1\n",
       " 89.0       1\n",
       "Name: new_age, Length: 79, dtype: int64"
      ]
     },
     "execution_count": 120,
     "metadata": {},
     "output_type": "execute_result"
    }
   ],
   "source": [
    "ri.new_age.value_counts(dropna=False)"
   ]
  }
 ],
 "metadata": {
  "kernelspec": {
   "display_name": "Python 3",
   "language": "python",
   "name": "python3"
  },
  "language_info": {
   "codemirror_mode": {
    "name": "ipython",
    "version": 3
   },
   "file_extension": ".py",
   "mimetype": "text/x-python",
   "name": "python",
   "nbconvert_exporter": "python",
   "pygments_lexer": "ipython3",
   "version": "3.6.5"
  }
 },
 "nbformat": 4,
 "nbformat_minor": 2
}
